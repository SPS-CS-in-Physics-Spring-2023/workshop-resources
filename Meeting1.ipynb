{
 "cells": [
  {
   "cell_type": "markdown",
   "id": "217b2e1b",
   "metadata": {},
   "source": [
    "# Introduction to Python\n",
    "\n",
    "### 1. Variables\n",
    "\n",
    "#### Exercise 1.1 - int, float, bool"
   ]
  },
  {
   "cell_type": "code",
   "execution_count": 1,
   "id": "cbcdece3",
   "metadata": {},
   "outputs": [],
   "source": [
    "# Declare a variable with the following syntax:\n",
    "# <variable_name> = <value>\n",
    "\n",
    "my_number = 3\n",
    "my_decimal = 3.4\n",
    "my_bool = True"
   ]
  },
  {
   "cell_type": "code",
   "execution_count": 2,
   "id": "507adcb6",
   "metadata": {},
   "outputs": [
    {
     "name": "stdout",
     "output_type": "stream",
     "text": [
      "3\n",
      "3.4\n",
      "True\n"
     ]
    }
   ],
   "source": [
    "print(my_number)\n",
    "print(my_decimal)\n",
    "print(my_bool)"
   ]
  },
  {
   "cell_type": "code",
   "execution_count": 3,
   "id": "0bb430fc",
   "metadata": {},
   "outputs": [
    {
     "ename": "SyntaxError",
     "evalue": "cannot assign to literal here. Maybe you meant '==' instead of '='? (2608317029.py, line 4)",
     "output_type": "error",
     "traceback": [
      "\u001b[1;36m  Cell \u001b[1;32mIn[3], line 4\u001b[1;36m\u001b[0m\n\u001b[1;33m    3 = my_number\u001b[0m\n\u001b[1;37m    ^\u001b[0m\n\u001b[1;31mSyntaxError\u001b[0m\u001b[1;31m:\u001b[0m cannot assign to literal here. Maybe you meant '==' instead of '='?\n"
     ]
    }
   ],
   "source": [
    "# Is this syntax correct? Will it work?\n",
    "\n",
    "my_number = 0 \n",
    "3 = my_number\n",
    "print(my_number)\n",
    "\n",
    "# Try running it."
   ]
  },
  {
   "cell_type": "markdown",
   "id": "53c1cb06",
   "metadata": {},
   "source": [
    "#### Try It 1.2 - str, list, tuple"
   ]
  },
  {
   "cell_type": "code",
   "execution_count": 4,
   "id": "addcda7d",
   "metadata": {},
   "outputs": [],
   "source": [
    "# Declare strings with \"\" around them\n",
    "# Declare lists with [] around them\n",
    "# Declare tuples with () around them\n",
    "\n",
    "my_string = \"john\"\n",
    "my_list = [3, \"hello\", True, -3.4, '3']\n",
    "my_tuple = (3, \"hello\", True, -3.4, '3')"
   ]
  },
  {
   "cell_type": "code",
   "execution_count": 5,
   "id": "5b0db80a",
   "metadata": {},
   "outputs": [
    {
     "ename": "SyntaxError",
     "evalue": "incomplete input (689554714.py, line 5)",
     "output_type": "error",
     "traceback": [
      "\u001b[1;36m  Cell \u001b[1;32mIn[5], line 5\u001b[1;36m\u001b[0m\n\u001b[1;33m    print(#  Variable Name Here  #)\u001b[0m\n\u001b[1;37m                                   ^\u001b[0m\n\u001b[1;31mSyntaxError\u001b[0m\u001b[1;31m:\u001b[0m incomplete input\n"
     ]
    }
   ],
   "source": [
    "# You try it!\n",
    "\n",
    "# Print out \"john\"\n",
    "\n",
    "print(#  Variable Name Here  #)"
   ]
  },
  {
   "cell_type": "markdown",
   "id": "d5a1db96",
   "metadata": {},
   "source": [
    "#### Exercise 1.3 - List Indices"
   ]
  },
  {
   "cell_type": "code",
   "execution_count": 6,
   "id": "51e4fad3",
   "metadata": {},
   "outputs": [
    {
     "name": "stdout",
     "output_type": "stream",
     "text": [
      "3\n",
      "hello\n",
      "True\n",
      "-3.4\n"
     ]
    }
   ],
   "source": [
    "# Printing out items at a certain index\n",
    "# Add [] after the name of the list, and fill in \n",
    "# the bracket with the index of the item you want.\n",
    "\n",
    "# Remember: programming languages count from 0.\n",
    "\n",
    "print(my_list[0])\n",
    "print(my_list[1])\n",
    "print(my_tuple[2])\n",
    "print(my_tuple[3])"
   ]
  },
  {
   "cell_type": "markdown",
   "id": "d2a43149",
   "metadata": {},
   "source": [
    "#### Exercise 1.3B - String Indices"
   ]
  },
  {
   "cell_type": "code",
   "execution_count": 7,
   "id": "ba83e226",
   "metadata": {},
   "outputs": [
    {
     "name": "stdout",
     "output_type": "stream",
     "text": [
      "h\n"
     ]
    }
   ],
   "source": [
    "# What do you think this will print out?\n",
    "\n",
    "print(my_string[2])"
   ]
  },
  {
   "cell_type": "markdown",
   "id": "daffdc64",
   "metadata": {},
   "source": [
    "#### Exercise 1.4 - Dictionaries"
   ]
  },
  {
   "cell_type": "code",
   "execution_count": 8,
   "id": "2bb01fd4",
   "metadata": {},
   "outputs": [
    {
     "name": "stdout",
     "output_type": "stream",
     "text": [
      "John\n"
     ]
    }
   ],
   "source": [
    "# Declare dictionaries with {} around them\n",
    "# Use the syntax - \n",
    "# Key:Value\n",
    "\n",
    "user_information = {\"Name\": \"John\", \"Age\": 5, \"is_a_gamer\": True}\n",
    "\n",
    "# Access the value at a certain key similar to how you access list indices\n",
    "# Use [] with the name of the key inside\n",
    "\n",
    "print(user_information[\"Name\"])"
   ]
  },
  {
   "cell_type": "code",
   "execution_count": 9,
   "id": "9dadda4e",
   "metadata": {},
   "outputs": [
    {
     "name": "stdout",
     "output_type": "stream",
     "text": [
      "Charles\n"
     ]
    }
   ],
   "source": [
    "# Editing a key:value pair\n",
    "\n",
    "user_information[\"Name\"] = \"Charles\"\n",
    "print(user_information[\"Name\"])"
   ]
  },
  {
   "cell_type": "code",
   "execution_count": 10,
   "id": "319ea526",
   "metadata": {},
   "outputs": [
    {
     "name": "stdout",
     "output_type": "stream",
     "text": [
      "USC\n"
     ]
    }
   ],
   "source": [
    "# Adding new key:value pairs\n",
    "\n",
    "user_information[\"University\"] = \"USC\"\n",
    "print(user_information[\"University\"])"
   ]
  },
  {
   "cell_type": "markdown",
   "id": "842d984e",
   "metadata": {},
   "source": [
    "#### Exercise 1.5 - Sets"
   ]
  },
  {
   "cell_type": "code",
   "execution_count": 11,
   "id": "3600333e",
   "metadata": {},
   "outputs": [
    {
     "name": "stdout",
     "output_type": "stream",
     "text": [
      "{'Blue', 'Green', 'Red'}\n"
     ]
    }
   ],
   "source": [
    "# Declare sets with {} around them\n",
    "\n",
    "my_set_of_colors = {\"Red\", \"Blue\", \"Green\"}\n",
    "\n",
    "print(my_set_of_colors)"
   ]
  },
  {
   "cell_type": "code",
   "execution_count": 12,
   "id": "1bb48855",
   "metadata": {},
   "outputs": [
    {
     "name": "stdout",
     "output_type": "stream",
     "text": [
      "{'Yellow', 'Blue', 'Green', 'Red'}\n"
     ]
    }
   ],
   "source": [
    "my_set_of_colors.add(\"Yellow\")\n",
    "my_set_of_colors.add(\"Green\")\n",
    "\n",
    "# What will this print?\n",
    "\n",
    "print(my_set_of_colors)"
   ]
  },
  {
   "cell_type": "markdown",
   "id": "5ca65f77",
   "metadata": {},
   "source": [
    "### Side Note - Casting"
   ]
  },
  {
   "cell_type": "markdown",
   "id": "79e6bcd5",
   "metadata": {},
   "source": [
    "#### Exercise 1.6 - Using type()"
   ]
  },
  {
   "cell_type": "code",
   "execution_count": 13,
   "id": "350dbc19",
   "metadata": {},
   "outputs": [
    {
     "name": "stdout",
     "output_type": "stream",
     "text": [
      "<class 'set'>\n"
     ]
    }
   ],
   "source": [
    "# The function \"type()\" returns what the type of a variable is.\n",
    "\n",
    "variable_type = type(my_set_of_colors)\n",
    "print(variable_type)\n",
    "\n",
    "# What is a function? They will be explained later."
   ]
  },
  {
   "cell_type": "markdown",
   "id": "0b4b1f26",
   "metadata": {},
   "source": [
    "#### Exercise 1.7 - Casting"
   ]
  },
  {
   "cell_type": "code",
   "execution_count": 14,
   "id": "4e5fe83a",
   "metadata": {},
   "outputs": [
    {
     "name": "stdout",
     "output_type": "stream",
     "text": [
      "<class 'str'>\n",
      "<class 'float'>\n"
     ]
    }
   ],
   "source": [
    "# Sometimes we need to change the type of a variable. \n",
    "# Python has a simple way to do this, as long as the types are compatible.\n",
    "\n",
    "int1 = 4\n",
    "str1 = \"3.0\"\n",
    "\n",
    "# Lets say we wanted 4 as a string, and \"3.0\" as a float.\n",
    "\n",
    "my_str = str(int1)\n",
    "my_float = float(str1)\n",
    "\n",
    "# Now, my_str has \"4\"\n",
    "# and my_float has 3.0\n",
    "\n",
    "# Let's check using the type() function. \n",
    "\n",
    "print(type(my_str)) # should print class 'str'\n",
    "print(type(my_float)) # should print class 'float'"
   ]
  },
  {
   "cell_type": "code",
   "execution_count": 15,
   "id": "c1472afd",
   "metadata": {},
   "outputs": [
    {
     "ename": "TypeError",
     "evalue": "can only concatenate str (not \"int\") to str",
     "output_type": "error",
     "traceback": [
      "\u001b[1;31m---------------------------------------------------------------------------\u001b[0m",
      "\u001b[1;31mTypeError\u001b[0m                                 Traceback (most recent call last)",
      "Cell \u001b[1;32mIn[15], line 5\u001b[0m\n\u001b[0;32m      1\u001b[0m \u001b[38;5;66;03m# Why do we want this? One example: print statements can only print strings.\u001b[39;00m\n\u001b[0;32m      3\u001b[0m my_num \u001b[38;5;241m=\u001b[39m \u001b[38;5;241m3\u001b[39m\n\u001b[1;32m----> 5\u001b[0m \u001b[38;5;28mprint\u001b[39m(\u001b[38;5;124;43m\"\u001b[39;49m\u001b[38;5;124;43mYour number is \u001b[39;49m\u001b[38;5;124;43m\"\u001b[39;49m\u001b[43m \u001b[49m\u001b[38;5;241;43m+\u001b[39;49m\u001b[43m \u001b[49m\u001b[43mmy_num\u001b[49m) \u001b[38;5;66;03m# The '+' sign is used to \"add up\" the output string.\u001b[39;00m\n\u001b[0;32m      7\u001b[0m \u001b[38;5;66;03m# Try executing.\u001b[39;00m\n",
      "\u001b[1;31mTypeError\u001b[0m: can only concatenate str (not \"int\") to str"
     ]
    }
   ],
   "source": [
    "# Why do we want this? One example: print statements can only print strings.\n",
    "\n",
    "my_num = 3\n",
    "\n",
    "print(\"Your number is \" + my_num) # The '+' sign is used to \"add up\" the output string.\n",
    "\n",
    "# Try executing."
   ]
  },
  {
   "cell_type": "code",
   "execution_count": null,
   "id": "23534513",
   "metadata": {},
   "outputs": [],
   "source": [
    "my_num = 3\n",
    "\n",
    "print(\"Your number is \" + str(my_num)) # cast it first!"
   ]
  },
  {
   "cell_type": "markdown",
   "id": "9d512f7b",
   "metadata": {},
   "source": [
    "### 2. Conditional Logic"
   ]
  },
  {
   "cell_type": "markdown",
   "id": "95d1c23f",
   "metadata": {},
   "source": [
    "#### Exercise 2.1A - User Input + If...elif...else statement"
   ]
  },
  {
   "cell_type": "code",
   "execution_count": 16,
   "id": "dce0c370",
   "metadata": {},
   "outputs": [
    {
     "name": "stdout",
     "output_type": "stream",
     "text": [
      "something not working\n"
     ]
    }
   ],
   "source": [
    "error = True\n",
    "if error == True:\n",
    "    print(\"something not working\")"
   ]
  },
  {
   "cell_type": "code",
   "execution_count": 17,
   "id": "58aa8b4c",
   "metadata": {},
   "outputs": [
    {
     "name": "stdout",
     "output_type": "stream",
     "text": [
      "What did you get on your test? \n"
     ]
    }
   ],
   "source": [
    "test_score = input(\"What did you get on your test? \") # input command. Returns a string with user input."
   ]
  },
  {
   "cell_type": "code",
   "execution_count": 18,
   "id": "bfbd1f33",
   "metadata": {},
   "outputs": [
    {
     "ename": "ValueError",
     "evalue": "invalid literal for int() with base 10: ''",
     "output_type": "error",
     "traceback": [
      "\u001b[1;31m---------------------------------------------------------------------------\u001b[0m",
      "\u001b[1;31mValueError\u001b[0m                                Traceback (most recent call last)",
      "Cell \u001b[1;32mIn[18], line 1\u001b[0m\n\u001b[1;32m----> 1\u001b[0m test_score \u001b[38;5;241m=\u001b[39m \u001b[38;5;28;43mint\u001b[39;49m\u001b[43m(\u001b[49m\u001b[43mtest_score\u001b[49m\u001b[43m)\u001b[49m \u001b[38;5;66;03m# We need to cast from a str --> int data type, since input returns a string.\u001b[39;00m\n\u001b[0;32m      3\u001b[0m \u001b[38;5;66;03m# If the condition evaluates to True, the indented block of code runs.\u001b[39;00m\n\u001b[0;32m      4\u001b[0m \u001b[38;5;66;03m# Otherwise, it checks the next elif statement.\u001b[39;00m\n\u001b[0;32m      6\u001b[0m \u001b[38;5;28;01mif\u001b[39;00m test_score \u001b[38;5;241m>\u001b[39m \u001b[38;5;241m90\u001b[39m:\n",
      "\u001b[1;31mValueError\u001b[0m: invalid literal for int() with base 10: ''"
     ]
    }
   ],
   "source": [
    "test_score = int(test_score) # We need to cast from a str --> int data type, since input returns a string.\n",
    "\n",
    "# If the condition evaluates to True, the indented block of code runs.\n",
    "# Otherwise, it checks the next elif statement.\n",
    "\n",
    "if test_score > 90:\n",
    "    print(\"You got an A!\")\n",
    "elif test_score > 80:\n",
    "    print(\"You got a B!\")\n",
    "elif test_score > 70:\n",
    "    print(\"You got a C!\")\n",
    "elif test_score > 60:\n",
    "    print(\"You got a D.\")\n",
    "else:\n",
    "    print(\"You got an F.\")"
   ]
  },
  {
   "cell_type": "markdown",
   "id": "b3edfd37",
   "metadata": {},
   "source": [
    "#### Try It 2.1B - User Input + If...elif...else statement"
   ]
  },
  {
   "cell_type": "code",
   "execution_count": 19,
   "id": "ab5b61df",
   "metadata": {},
   "outputs": [],
   "source": [
    "# You will be writing this from scratch.\n",
    "\n",
    "# Take an input from the user for their letter grade.\n",
    "# Output a string telling you what your possible range of grades is.\n",
    "\n",
    "# For example, if the user inputs \"A\"\n",
    "# You output : \"You scored between 90 - 100!\"\n"
   ]
  },
  {
   "cell_type": "markdown",
   "id": "d48e56f6",
   "metadata": {},
   "source": [
    "#### Exercise 2.2 - Logic (NOT)"
   ]
  },
  {
   "cell_type": "code",
   "execution_count": 20,
   "id": "bfb3831a",
   "metadata": {},
   "outputs": [
    {
     "name": "stdout",
     "output_type": "stream",
     "text": [
      "I saw him vent\n"
     ]
    }
   ],
   "source": [
    "# Edit this variable to see what happens.\n",
    "\n",
    "is_sus = True\n",
    "\n",
    "# the keyword \"not\" in python reverses a logical statement.\n",
    "\n",
    "if not is_sus:\n",
    "    print(\"Nah I saw him doing a task\")\n",
    "else:\n",
    "    print(\"I saw him vent\")"
   ]
  },
  {
   "cell_type": "markdown",
   "id": "f8763a8f",
   "metadata": {},
   "source": [
    "#### Exercise 2.3A - Logic (AND)"
   ]
  },
  {
   "cell_type": "code",
   "execution_count": 21,
   "id": "a604f8f3",
   "metadata": {},
   "outputs": [
    {
     "name": "stdout",
     "output_type": "stream",
     "text": [
      "No one below 21.\n"
     ]
    }
   ],
   "source": [
    "my_age = 20\n",
    "have_a_license = False\n",
    "\n",
    "# the keyword \"and\" only evaluates to True when BOTH conditions are True.\n",
    "# Otherwise, it evaluates to False.\n",
    "\n",
    "if my_age > 21 and have_a_license:\n",
    "    print(\"You can have a drink!\")\n",
    "elif my_age > 21:\n",
    "    print(\"Where's your license?\")\n",
    "elif have_a_license:\n",
    "    print(\"Hmm you don't look 21\")\n",
    "else:\n",
    "    print(\"No one below 21.\")"
   ]
  },
  {
   "cell_type": "markdown",
   "id": "dd978727",
   "metadata": {},
   "source": [
    "#### Try It 2.3B - Logic (AND)"
   ]
  },
  {
   "cell_type": "code",
   "execution_count": 22,
   "id": "8ca7677d",
   "metadata": {},
   "outputs": [
    {
     "name": "stdout",
     "output_type": "stream",
     "text": [
      "No one below 21.\n"
     ]
    }
   ],
   "source": [
    "# Look at the code again. \n",
    "# 1. Edit the variables to make the output \"You can have a drink!\"\n",
    "# 2. Edit the variables to make the output \"Where's your license?\"\n",
    "\n",
    "my_age = 20\n",
    "have_a_license = False\n",
    "\n",
    "if my_age > 21 and have_a_license:\n",
    "    print(\"You can have a drink!\")\n",
    "elif my_age > 21:\n",
    "    print(\"Where's your license?\")\n",
    "elif have_a_license:\n",
    "    print(\"Hmm you don't look 21\")\n",
    "else:\n",
    "    print(\"No one below 21.\")"
   ]
  },
  {
   "cell_type": "markdown",
   "id": "b27489af",
   "metadata": {},
   "source": [
    "#### Exercise 2.4A - Logic (OR)"
   ]
  },
  {
   "cell_type": "code",
   "execution_count": 23,
   "id": "97249c51",
   "metadata": {},
   "outputs": [
    {
     "name": "stdout",
     "output_type": "stream",
     "text": [
      "You've got more classes to finish.\n"
     ]
    }
   ],
   "source": [
    "units_finished = 128\n",
    "semesters_completed = 7\n",
    "\n",
    "# the keyword \"or\" only evaluates to True when EITHER ONE of the conditions are True.\n",
    "# It only returns False if both statements are False.\n",
    "\n",
    "if semesters_completed > 8 or units_finished > 144:\n",
    "    print(\"The University considers you graduated.\")\n",
    "else:\n",
    "    print(\"You've got more classes to finish.\")\n"
   ]
  },
  {
   "cell_type": "markdown",
   "id": "49136c5e",
   "metadata": {},
   "source": [
    "#### Try It 2.4B - Logic (OR)"
   ]
  },
  {
   "cell_type": "code",
   "execution_count": null,
   "id": "6110aa75",
   "metadata": {},
   "outputs": [],
   "source": [
    "# Look at the code again. \n",
    "# 1. Edit the variables to make the output \"The University considers you graduated.\"\n",
    "\n",
    "if semesters_completed > 8 or units_finished > 144:\n",
    "    print(\"The University considers you graduatehttp://localhost:8888/notebooks/Meeting1.ipynb#d.\")\n",
    "else:\n",
    "    print(\"You've got more classes to finish.\")"
   ]
  },
  {
   "cell_type": "markdown",
   "id": "6c63990d",
   "metadata": {},
   "source": [
    "### 3. Loops"
   ]
  },
  {
   "cell_type": "markdown",
   "id": "8cef80f3",
   "metadata": {},
   "source": [
    "#### For loop"
   ]
  },
  {
   "cell_type": "code",
   "execution_count": 27,
   "id": "2dee0abc",
   "metadata": {},
   "outputs": [
    {
     "name": "stdout",
     "output_type": "stream",
     "text": [
      "Yellow\n",
      "Blue\n",
      "Red\n"
     ]
    }
   ],
   "source": [
    "my_set_of_colors = {\"Red\", \"Yellow\", \"Blue\"}\n",
    "for colors in my_set_of_colors:\n",
    "    print(colors)"
   ]
  },
  {
   "cell_type": "markdown",
   "id": "3aa4645b",
   "metadata": {},
   "source": [
    "#### Now you try"
   ]
  },
  {
   "cell_type": "code",
   "execution_count": 28,
   "id": "20e7af7e",
   "metadata": {},
   "outputs": [],
   "source": [
    "my_set_of_numbers = {1,2,3,4,5}\n",
    "\n",
    "#fill in the blanks below to print out the \n",
    "#numbers in the set of numbers\n",
    "\n",
    "for ___ in ____:\n",
    "    print(___)\n"
   ]
  },
  {
   "cell_type": "code",
   "execution_count": null,
   "id": "72cb0a81",
   "metadata": {},
   "outputs": [],
   "source": []
  },
  {
   "cell_type": "markdown",
   "id": "adb81823",
   "metadata": {},
   "source": [
    "#### While loop"
   ]
  },
  {
   "cell_type": "code",
   "execution_count": 1,
   "id": "010c69da",
   "metadata": {},
   "outputs": [
    {
     "name": "stdout",
     "output_type": "stream",
     "text": [
      "Still in while loop\n",
      "Still in while loop\n",
      "Still in while loop\n",
      "No longer in loop\n"
     ]
    }
   ],
   "source": [
    "counter = 3\n",
    "\n",
    "while counter > 0:\n",
    "    print(\"Still in while loop\")\n",
    "    counter -= 1\n",
    "    \n",
    "print(\"No longer in loop\")"
   ]
  },
  {
   "cell_type": "markdown",
   "id": "ac6b70a6",
   "metadata": {},
   "source": [
    "#### Now you try"
   ]
  },
  {
   "cell_type": "code",
   "execution_count": 4,
   "id": "cefb6115",
   "metadata": {},
   "outputs": [
    {
     "ename": "NameError",
     "evalue": "name '____' is not defined",
     "output_type": "error",
     "traceback": [
      "\u001b[1;31m---------------------------------------------------------------------------\u001b[0m",
      "\u001b[1;31mNameError\u001b[0m                                 Traceback (most recent call last)",
      "Cell \u001b[1;32mIn[4], line 6\u001b[0m\n\u001b[0;32m      1\u001b[0m \u001b[38;5;66;03m# task: print out numbers from 0 to 5 by filling out\u001b[39;00m\n\u001b[0;32m      2\u001b[0m \u001b[38;5;66;03m#       the blanks below\u001b[39;00m\n\u001b[0;32m      4\u001b[0m number \u001b[38;5;241m=\u001b[39m \u001b[38;5;241m0\u001b[39m\n\u001b[1;32m----> 6\u001b[0m \u001b[38;5;28;01mwhile\u001b[39;00m \u001b[43m____\u001b[49m:\n\u001b[0;32m      7\u001b[0m     \u001b[38;5;28mprint\u001b[39m(number)\n\u001b[0;32m      8\u001b[0m     number \u001b[38;5;241m+\u001b[39m\u001b[38;5;241m=\u001b[39m \u001b[38;5;241m1\u001b[39m\n",
      "\u001b[1;31mNameError\u001b[0m: name '____' is not defined"
     ]
    }
   ],
   "source": [
    "# task: print out numbers from 0 to 5 by filling out\n",
    "#       the blanks below\n",
    "\n",
    "number = 0\n",
    "\n",
    "while ____:\n",
    "    print(number)\n",
    "    number += 1\n"
   ]
  },
  {
   "cell_type": "markdown",
   "id": "a3311b3d",
   "metadata": {},
   "source": [
    "### Functions"
   ]
  },
  {
   "cell_type": "code",
   "execution_count": 10,
   "id": "cac68e1e",
   "metadata": {},
   "outputs": [],
   "source": [
    "def myfunction(word):\n",
    "    print(word)"
   ]
  },
  {
   "cell_type": "code",
   "execution_count": 11,
   "id": "326c87b5",
   "metadata": {
    "scrolled": true
   },
   "outputs": [
    {
     "name": "stdout",
     "output_type": "stream",
     "text": [
      "Hello\n"
     ]
    }
   ],
   "source": [
    "myfunction(\"Hello\")"
   ]
  },
  {
   "cell_type": "code",
   "execution_count": null,
   "id": "d812c3dd",
   "metadata": {},
   "outputs": [],
   "source": [
    "# task define a function that will add 1 to a number \n",
    "# then print out that number\n",
    "\n",
    "def yourfunction(number):\n",
    "    _____\n",
    "    print(___)\n",
    "    "
   ]
  },
  {
   "cell_type": "code",
   "execution_count": null,
   "id": "e824fe3b",
   "metadata": {},
   "outputs": [],
   "source": [
    "yourfunction(1)\n",
    "\n",
    "#this should print out \"2\" if defined properly"
   ]
  },
  {
   "cell_type": "markdown",
   "id": "6bf730f2",
   "metadata": {},
   "source": [
    "### Modules"
   ]
  },
  {
   "cell_type": "markdown",
   "id": "12ba2a90",
   "metadata": {},
   "source": [
    "#### Note: it is important to have the file to import. Because of this you need to have the file called \"mymodule.py\""
   ]
  },
  {
   "cell_type": "code",
   "execution_count": 13,
   "id": "11d5e05d",
   "metadata": {
    "scrolled": true
   },
   "outputs": [
    {
     "name": "stdout",
     "output_type": "stream",
     "text": [
      "Hello, Logan\n"
     ]
    }
   ],
   "source": [
    "import mymodule as my\n",
    "\n",
    "my.greeting(\"Logan\")\n",
    "\n",
    "# the prototype of this function looks like below\n",
    "# def greeting(name)"
   ]
  },
  {
   "cell_type": "markdown",
   "id": "796160f5",
   "metadata": {},
   "source": [
    "#### Now you try"
   ]
  },
  {
   "cell_type": "code",
   "execution_count": 14,
   "id": "f4f75447",
   "metadata": {},
   "outputs": [],
   "source": [
    "# there is a function whose prototype looks like below\n",
    "# def multiplication(number1, number2)\n",
    "# it multiplies the two numbers and prints them\n",
    "# this function is in the mymodule module\n",
    "\n",
    "# task: using the module below, print out the number 6\n",
    "import mymodule as my\n",
    "\n",
    "___(_,_)"
   ]
  }
 ],
 "metadata": {
  "kernelspec": {
   "display_name": "Python 3 (ipykernel)",
   "language": "python",
   "name": "python3"
  },
  "language_info": {
   "codemirror_mode": {
    "name": "ipython",
    "version": 3
   },
   "file_extension": ".py",
   "mimetype": "text/x-python",
   "name": "python",
   "nbconvert_exporter": "python",
   "pygments_lexer": "ipython3",
   "version": "3.11.0"
  }
 },
 "nbformat": 4,
 "nbformat_minor": 5
}
