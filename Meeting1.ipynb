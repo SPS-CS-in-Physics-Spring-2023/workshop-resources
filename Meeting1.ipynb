{
 "cells": [
  {
   "cell_type": "markdown",
   "metadata": {
    "cell_id": "a7226fde0dbb4e8e9a54ec085df2b5a5",
    "deepnote_cell_type": "markdown"
   },
   "source": [
    "# Introduction to Python\n",
    "\n",
    "### 1. Variables\n",
    "\n",
    "#### Exercise 1.1 - int, float, bool"
   ]
  },
  {
   "cell_type": "code",
   "execution_count": 1,
   "metadata": {
    "cell_id": "ca7f2f8ad1c9478990153391a49d64ee",
    "deepnote_cell_type": "code"
   },
   "outputs": [],
   "source": [
    "# Declare a variable with the following syntax:\n",
    "# <variable_name> = <value>\n",
    "\n",
    "my_number = 3\n",
    "my_decimal = 3.4\n",
    "my_bool = True"
   ]
  },
  {
   "cell_type": "code",
   "execution_count": 2,
   "metadata": {
    "cell_id": "0b9dd03278874d06815a78761c283d18",
    "deepnote_cell_type": "code"
   },
   "outputs": [
    {
     "name": "stdout",
     "output_type": "stream",
     "text": [
      "3\n",
      "3.4\n",
      "True\n"
     ]
    }
   ],
   "source": [
    "print(my_number)\n",
    "print(my_decimal)\n",
    "print(my_bool)"
   ]
  },
  {
   "cell_type": "code",
   "execution_count": 3,
   "metadata": {
    "cell_id": "f7aebbabb4aa48f290a0b5d58f49dbe5",
    "deepnote_cell_type": "code"
   },
   "outputs": [
    {
     "ename": "SyntaxError",
     "evalue": "cannot assign to literal here. Maybe you meant '==' instead of '='? (2608317029.py, line 4)",
     "output_type": "error",
     "traceback": [
      "\u001B[1;36m  Cell \u001B[1;32mIn[3], line 4\u001B[1;36m\u001B[0m\n\u001B[1;33m    3 = my_number\u001B[0m\n\u001B[1;37m    ^\u001B[0m\n\u001B[1;31mSyntaxError\u001B[0m\u001B[1;31m:\u001B[0m cannot assign to literal here. Maybe you meant '==' instead of '='?\n"
     ]
    }
   ],
   "source": [
    "# Is this syntax correct? Will it work?\n",
    "\n",
    "my_number = 0 \n",
    "3 = my_number\n",
    "print(my_number)\n",
    "\n",
    "# Try running it."
   ]
  },
  {
   "cell_type": "markdown",
   "metadata": {
    "cell_id": "a52d65a806634518abd94199d49fa6f0",
    "deepnote_cell_type": "markdown"
   },
   "source": [
    "#### Try It 1.2 - str, list, tuple"
   ]
  },
  {
   "cell_type": "code",
   "execution_count": 4,
   "metadata": {
    "cell_id": "bf1e46bc4d174b2ca677f89a1b755c2c",
    "deepnote_cell_type": "code"
   },
   "outputs": [],
   "source": [
    "# Declare strings with \"\" around them\n",
    "# Declare lists with [] around them\n",
    "# Declare tuples with () around them\n",
    "\n",
    "my_string = \"john\"\n",
    "my_list = [3, \"hello\", True, -3.4, '3']\n",
    "my_tuple = (3, \"hello\", True, -3.4, '3')"
   ]
  },
  {
   "cell_type": "code",
   "execution_count": 5,
   "metadata": {
    "cell_id": "e4aa975844d34f20b1b3889109cecdaa",
    "deepnote_cell_type": "code"
   },
   "outputs": [
    {
     "ename": "SyntaxError",
     "evalue": "incomplete input (689554714.py, line 5)",
     "output_type": "error",
     "traceback": [
      "\u001B[1;36m  Cell \u001B[1;32mIn[5], line 5\u001B[1;36m\u001B[0m\n\u001B[1;33m    print(#  Variable Name Here  #)\u001B[0m\n\u001B[1;37m                                   ^\u001B[0m\n\u001B[1;31mSyntaxError\u001B[0m\u001B[1;31m:\u001B[0m incomplete input\n"
     ]
    }
   ],
   "source": [
    "# You try it!\n",
    "\n",
    "# Print out \"john\"\n",
    "\n",
    "print(#  Variable Name Here  #)"
   ]
  },
  {
   "cell_type": "markdown",
   "metadata": {
    "cell_id": "cb8bd19076a74778b16ca9ab4675428b",
    "deepnote_cell_type": "markdown"
   },
   "source": [
    "#### Exercise 1.3 - List Indices"
   ]
  },
  {
   "cell_type": "code",
   "execution_count": 6,
   "metadata": {
    "cell_id": "9aa4196c608b413bbbce45714fa29e5e",
    "deepnote_cell_type": "code"
   },
   "outputs": [
    {
     "name": "stdout",
     "output_type": "stream",
     "text": [
      "3\n",
      "hello\n",
      "True\n",
      "-3.4\n"
     ]
    }
   ],
   "source": [
    "# Printing out items at a certain index\n",
    "# Add [] after the name of the list, and fill in \n",
    "# the bracket with the index of the item you want.\n",
    "\n",
    "# Remember: programming languages count from 0.\n",
    "\n",
    "print(my_list[0])\n",
    "print(my_list[1])\n",
    "print(my_tuple[2])\n",
    "print(my_tuple[3])"
   ]
  },
  {
   "cell_type": "markdown",
   "metadata": {
    "cell_id": "3e544833ce76465998893249afeeec36",
    "deepnote_cell_type": "markdown"
   },
   "source": [
    "#### Exercise 1.3B - String Indices"
   ]
  },
  {
   "cell_type": "code",
   "execution_count": 7,
   "metadata": {
    "cell_id": "f3c854f28cd4411cadd6b26aa4eb3906",
    "deepnote_cell_type": "code"
   },
   "outputs": [
    {
     "name": "stdout",
     "output_type": "stream",
     "text": [
      "h\n"
     ]
    }
   ],
   "source": [
    "# What do you think this will print out?\n",
    "\n",
    "print(my_string[2])"
   ]
  },
  {
   "cell_type": "markdown",
   "metadata": {
    "cell_id": "92a9aa0fa95642d6a13a3f5dbbc97656",
    "deepnote_cell_type": "markdown"
   },
   "source": [
    "#### Exercise 1.4 - Dictionaries"
   ]
  },
  {
   "cell_type": "code",
   "execution_count": 8,
   "metadata": {
    "cell_id": "7fae267a1b9545c2ad3468ab7b9b8ab1",
    "deepnote_cell_type": "code"
   },
   "outputs": [
    {
     "name": "stdout",
     "output_type": "stream",
     "text": [
      "John\n"
     ]
    }
   ],
   "source": [
    "# Declare dictionaries with {} around them\n",
    "# Use the syntax - \n",
    "# Key:Value\n",
    "\n",
    "user_information = {\"Name\": \"John\", \"Age\": 5, \"is_a_gamer\": True}\n",
    "\n",
    "# Access the value at a certain key similar to how you access list indices\n",
    "# Use [] with the name of the key inside\n",
    "\n",
    "print(user_information[\"Name\"])"
   ]
  },
  {
   "cell_type": "code",
   "execution_count": 9,
   "metadata": {
    "cell_id": "2b18574eb8894050932b95158c28ef9f",
    "deepnote_cell_type": "code"
   },
   "outputs": [
    {
     "name": "stdout",
     "output_type": "stream",
     "text": [
      "Charles\n"
     ]
    }
   ],
   "source": [
    "# Editing a key:value pair\n",
    "\n",
    "user_information[\"Name\"] = \"Charles\"\n",
    "print(user_information[\"Name\"])"
   ]
  },
  {
   "cell_type": "code",
   "execution_count": 10,
   "metadata": {
    "cell_id": "4b10e4fcdeaa40068372997a9ccf4bc4",
    "deepnote_cell_type": "code"
   },
   "outputs": [
    {
     "name": "stdout",
     "output_type": "stream",
     "text": [
      "USC\n"
     ]
    }
   ],
   "source": [
    "# Adding new key:value pairs\n",
    "\n",
    "user_information[\"University\"] = \"USC\"\n",
    "print(user_information[\"University\"])"
   ]
  },
  {
   "cell_type": "markdown",
   "metadata": {
    "cell_id": "09e586c5bda342a884cf1928e1f6954d",
    "deepnote_cell_type": "markdown"
   },
   "source": [
    "#### Exercise 1.5 - Sets"
   ]
  },
  {
   "cell_type": "code",
   "execution_count": 11,
   "metadata": {
    "cell_id": "9a0f67ed15e84b8e821ed6676265971a",
    "deepnote_cell_type": "code"
   },
   "outputs": [
    {
     "name": "stdout",
     "output_type": "stream",
     "text": [
      "{'Blue', 'Green', 'Red'}\n"
     ]
    }
   ],
   "source": [
    "# Declare sets with {} around them\n",
    "\n",
    "my_set_of_colors = {\"Red\", \"Blue\", \"Green\"}\n",
    "\n",
    "print(my_set_of_colors)"
   ]
  },
  {
   "cell_type": "code",
   "execution_count": 12,
   "metadata": {
    "cell_id": "018c11b7c68547b3b7216b23c2fed2c4",
    "deepnote_cell_type": "code"
   },
   "outputs": [
    {
     "name": "stdout",
     "output_type": "stream",
     "text": [
      "{'Yellow', 'Blue', 'Green', 'Red'}\n"
     ]
    }
   ],
   "source": [
    "my_set_of_colors.add(\"Yellow\")\n",
    "my_set_of_colors.add(\"Green\")\n",
    "\n",
    "# What will this print?\n",
    "\n",
    "print(my_set_of_colors)"
   ]
  },
  {
   "cell_type": "markdown",
   "metadata": {
    "cell_id": "1fb06511a67f46d2a787465a203bc79b",
    "deepnote_cell_type": "markdown"
   },
   "source": [
    "### Side Note - Casting"
   ]
  },
  {
   "cell_type": "markdown",
   "metadata": {
    "cell_id": "4b4b0d58873245a9820c71c6b5d9d3cc",
    "deepnote_cell_type": "markdown"
   },
   "source": [
    "#### Exercise 1.6 - Using type()"
   ]
  },
  {
   "cell_type": "code",
   "execution_count": 13,
   "metadata": {
    "cell_id": "a3a157ecabe7451d85a6a32b145a8646",
    "deepnote_cell_type": "code"
   },
   "outputs": [
    {
     "name": "stdout",
     "output_type": "stream",
     "text": [
      "<class 'set'>\n"
     ]
    }
   ],
   "source": [
    "# The function \"type()\" returns what the type of a variable is.\n",
    "\n",
    "variable_type = type(my_set_of_colors)\n",
    "print(variable_type)\n",
    "\n",
    "# What is a function? They will be explained later."
   ]
  },
  {
   "cell_type": "markdown",
   "metadata": {
    "cell_id": "ed2836d481834f179025cad30253069b",
    "deepnote_cell_type": "markdown"
   },
   "source": [
    "#### Exercise 1.7 - Casting"
   ]
  },
  {
   "cell_type": "code",
   "execution_count": 14,
   "metadata": {
    "cell_id": "f1824b749d9f4e5e9f7e0b19a1cb5f15",
    "deepnote_cell_type": "code"
   },
   "outputs": [
    {
     "name": "stdout",
     "output_type": "stream",
     "text": [
      "<class 'str'>\n",
      "<class 'float'>\n"
     ]
    }
   ],
   "source": [
    "# Sometimes we need to change the type of a variable. \n",
    "# Python has a simple way to do this, as long as the types are compatible.\n",
    "\n",
    "int1 = 4\n",
    "str1 = \"3.0\"\n",
    "\n",
    "# Lets say we wanted 4 as a string, and \"3.0\" as a float.\n",
    "\n",
    "my_str = str(int1)\n",
    "my_float = float(str1)\n",
    "\n",
    "# Now, my_str has \"4\"\n",
    "# and my_float has 3.0\n",
    "\n",
    "# Let's check using the type() function. \n",
    "\n",
    "print(type(my_str)) # should print class 'str'\n",
    "print(type(my_float)) # should print class 'float'"
   ]
  },
  {
   "cell_type": "code",
   "execution_count": 15,
   "metadata": {
    "cell_id": "d304af5a9dc34029b5f808298d8db71c",
    "deepnote_cell_type": "code"
   },
   "outputs": [
    {
     "ename": "TypeError",
     "evalue": "can only concatenate str (not \"int\") to str",
     "output_type": "error",
     "traceback": [
      "\u001B[1;31m---------------------------------------------------------------------------\u001B[0m",
      "\u001B[1;31mTypeError\u001B[0m                                 Traceback (most recent call last)",
      "Cell \u001B[1;32mIn[15], line 5\u001B[0m\n\u001B[0;32m      1\u001B[0m \u001B[38;5;66;03m# Why do we want this? One example: print statements can only print strings.\u001B[39;00m\n\u001B[0;32m      3\u001B[0m my_num \u001B[38;5;241m=\u001B[39m \u001B[38;5;241m3\u001B[39m\n\u001B[1;32m----> 5\u001B[0m \u001B[38;5;28mprint\u001B[39m(\u001B[38;5;124;43m\"\u001B[39;49m\u001B[38;5;124;43mYour number is \u001B[39;49m\u001B[38;5;124;43m\"\u001B[39;49m\u001B[43m \u001B[49m\u001B[38;5;241;43m+\u001B[39;49m\u001B[43m \u001B[49m\u001B[43mmy_num\u001B[49m) \u001B[38;5;66;03m# The '+' sign is used to \"add up\" the output string.\u001B[39;00m\n\u001B[0;32m      7\u001B[0m \u001B[38;5;66;03m# Try executing.\u001B[39;00m\n",
      "\u001B[1;31mTypeError\u001B[0m: can only concatenate str (not \"int\") to str"
     ]
    }
   ],
   "source": [
    "# Why do we want this? One example: print statements can only print strings.\n",
    "\n",
    "my_num = 3\n",
    "\n",
    "print(\"Your number is \" + my_num) # The '+' sign is used to \"add up\" the output string.\n",
    "\n",
    "# Try executing."
   ]
  },
  {
   "cell_type": "code",
   "execution_count": null,
   "metadata": {
    "cell_id": "6aae844d59344ae9bc755b7a8d40dfba",
    "deepnote_cell_type": "code"
   },
   "outputs": [],
   "source": [
    "my_num = 3\n",
    "\n",
    "print(\"Your number is \" + str(my_num)) # cast it first!"
   ]
  },
  {
   "cell_type": "markdown",
   "metadata": {
    "cell_id": "b6b649bd5587447ba0900e1995b4cf18",
    "deepnote_cell_type": "markdown"
   },
   "source": [
    "### 2. Conditional Logic"
   ]
  },
  {
   "cell_type": "markdown",
   "metadata": {
    "cell_id": "fe67e82247a343c99bcaeee4670053a0",
    "deepnote_cell_type": "markdown"
   },
   "source": [
    "#### Exercise 2.1A - User Input + If...elif...else statement"
   ]
  },
  {
   "cell_type": "code",
   "execution_count": 16,
   "metadata": {
    "cell_id": "6857481e4fe44c0eb0ed874dff3d7ffb",
    "deepnote_cell_type": "code"
   },
   "outputs": [
    {
     "name": "stdout",
     "output_type": "stream",
     "text": [
      "something not working\n"
     ]
    }
   ],
   "source": [
    "error = True\n",
    "if error == True:\n",
    "    print(\"something not working\")"
   ]
  },
  {
   "cell_type": "code",
   "execution_count": 17,
   "metadata": {
    "cell_id": "c07988c850b344b085b989bb6836c64a",
    "deepnote_cell_type": "code"
   },
   "outputs": [
    {
     "name": "stdout",
     "output_type": "stream",
     "text": [
      "What did you get on your test? \n"
     ]
    }
   ],
   "source": [
    "test_score = input(\"What did you get on your test? \") # input command. Returns a string with user input."
   ]
  },
  {
   "cell_type": "code",
   "execution_count": 18,
   "metadata": {
    "cell_id": "6a69e5cca5e84c9ab54a0bcfaf814a48",
    "deepnote_cell_type": "code"
   },
   "outputs": [
    {
     "ename": "ValueError",
     "evalue": "invalid literal for int() with base 10: ''",
     "output_type": "error",
     "traceback": [
      "\u001B[1;31m---------------------------------------------------------------------------\u001B[0m",
      "\u001B[1;31mValueError\u001B[0m                                Traceback (most recent call last)",
      "Cell \u001B[1;32mIn[18], line 1\u001B[0m\n\u001B[1;32m----> 1\u001B[0m test_score \u001B[38;5;241m=\u001B[39m \u001B[38;5;28;43mint\u001B[39;49m\u001B[43m(\u001B[49m\u001B[43mtest_score\u001B[49m\u001B[43m)\u001B[49m \u001B[38;5;66;03m# We need to cast from a str --> int data type, since input returns a string.\u001B[39;00m\n\u001B[0;32m      3\u001B[0m \u001B[38;5;66;03m# If the condition evaluates to True, the indented block of code runs.\u001B[39;00m\n\u001B[0;32m      4\u001B[0m \u001B[38;5;66;03m# Otherwise, it checks the next elif statement.\u001B[39;00m\n\u001B[0;32m      6\u001B[0m \u001B[38;5;28;01mif\u001B[39;00m test_score \u001B[38;5;241m>\u001B[39m \u001B[38;5;241m90\u001B[39m:\n",
      "\u001B[1;31mValueError\u001B[0m: invalid literal for int() with base 10: ''"
     ]
    }
   ],
   "source": [
    "test_score = int(test_score) # We need to cast from a str --> int data type, since input returns a string.\n",
    "\n",
    "# If the condition evaluates to True, the indented block of code runs.\n",
    "# Otherwise, it checks the next elif statement.\n",
    "\n",
    "if test_score > 90:\n",
    "    print(\"You got an A!\")\n",
    "elif test_score > 80:\n",
    "    print(\"You got a B!\")\n",
    "elif test_score > 70:\n",
    "    print(\"You got a C!\")\n",
    "elif test_score > 60:\n",
    "    print(\"You got a D.\")\n",
    "else:\n",
    "    print(\"You got an F.\")"
   ]
  },
  {
   "cell_type": "markdown",
   "metadata": {
    "cell_id": "67d6b68ddeb94b2585ce05abfe04dd4e",
    "deepnote_cell_type": "markdown"
   },
   "source": [
    "#### Try It 2.1B - User Input + If...elif...else statement"
   ]
  },
  {
   "cell_type": "code",
   "execution_count": 19,
   "metadata": {
    "cell_id": "3c6f44232c0e471ba57ac9fef16f1a93",
    "deepnote_cell_type": "code"
   },
   "outputs": [],
   "source": [
    "# You will be writing this from scratch.\n",
    "\n",
    "# Take an input from the user for their letter grade.\n",
    "# Output a string telling you what your possible range of grades is.\n",
    "\n",
    "# For example, if the user inputs \"A\"\n",
    "# You output : \"You scored between 90 - 100!\"\n"
   ]
  },
  {
   "cell_type": "markdown",
   "metadata": {
    "cell_id": "94917521ff1f48188f57741bba0b6ba4",
    "deepnote_cell_type": "markdown"
   },
   "source": [
    "#### Exercise 2.2 - Logic (NOT)"
   ]
  },
  {
   "cell_type": "code",
   "execution_count": 20,
   "metadata": {
    "cell_id": "1b4574e3d55f499ca4351ca74f0d89bb",
    "deepnote_cell_type": "code"
   },
   "outputs": [
    {
     "name": "stdout",
     "output_type": "stream",
     "text": [
      "I saw him vent\n"
     ]
    }
   ],
   "source": [
    "# Edit this variable to see what happens.\n",
    "\n",
    "is_sus = True\n",
    "\n",
    "# the keyword \"not\" in python reverses a logical statement.\n",
    "\n",
    "if not is_sus:\n",
    "    print(\"Nah I saw him doing a task\")\n",
    "else:\n",
    "    print(\"I saw him vent\")"
   ]
  },
  {
   "cell_type": "markdown",
   "metadata": {
    "cell_id": "bc6396b96df146348bcaca4622a798c6",
    "deepnote_cell_type": "markdown"
   },
   "source": [
    "#### Exercise 2.3A - Logic (AND)"
   ]
  },
  {
   "cell_type": "code",
   "execution_count": 21,
   "metadata": {
    "cell_id": "55974df6cd2e425d82296d0c3e61657f",
    "deepnote_cell_type": "code"
   },
   "outputs": [
    {
     "name": "stdout",
     "output_type": "stream",
     "text": [
      "No one below 21.\n"
     ]
    }
   ],
   "source": [
    "my_age = 20\n",
    "have_a_license = False\n",
    "\n",
    "# the keyword \"and\" only evaluates to True when BOTH conditions are True.\n",
    "# Otherwise, it evaluates to False.\n",
    "\n",
    "if my_age > 21 and have_a_license:\n",
    "    print(\"You can have a drink!\")\n",
    "elif my_age > 21:\n",
    "    print(\"Where's your license?\")\n",
    "elif have_a_license:\n",
    "    print(\"Hmm you don't look 21\")\n",
    "else:\n",
    "    print(\"No one below 21.\")"
   ]
  },
  {
   "cell_type": "markdown",
   "metadata": {
    "cell_id": "1bb8cd9a4dd543d696411a76a6d2130f",
    "deepnote_cell_type": "markdown"
   },
   "source": [
    "#### Try It 2.3B - Logic (AND)"
   ]
  },
  {
   "cell_type": "code",
   "execution_count": 22,
   "metadata": {
    "cell_id": "81ad4b5857004236908cc4578ffbef04",
    "deepnote_cell_type": "code"
   },
   "outputs": [
    {
     "name": "stdout",
     "output_type": "stream",
     "text": [
      "No one below 21.\n"
     ]
    }
   ],
   "source": [
    "# Look at the code again. \n",
    "# 1. Edit the variables to make the output \"You can have a drink!\"\n",
    "# 2. Edit the variables to make the output \"Where's your license?\"\n",
    "\n",
    "my_age = 20\n",
    "have_a_license = False\n",
    "\n",
    "if my_age > 21 and have_a_license:\n",
    "    print(\"You can have a drink!\")\n",
    "elif my_age > 21:\n",
    "    print(\"Where's your license?\")\n",
    "elif have_a_license:\n",
    "    print(\"Hmm you don't look 21\")\n",
    "else:\n",
    "    print(\"No one below 21.\")"
   ]
  },
  {
   "cell_type": "markdown",
   "metadata": {
    "cell_id": "b8937ead054d4340aefdd982c5fcebc1",
    "deepnote_cell_type": "markdown"
   },
   "source": [
    "#### Exercise 2.4A - Logic (OR)"
   ]
  },
  {
   "cell_type": "code",
   "execution_count": 23,
   "metadata": {
    "cell_id": "e6ba267106aa4f84aee7d49e8c468438",
    "deepnote_cell_type": "code"
   },
   "outputs": [
    {
     "name": "stdout",
     "output_type": "stream",
     "text": [
      "You've got more classes to finish.\n"
     ]
    }
   ],
   "source": [
    "units_finished = 128\n",
    "semesters_completed = 7\n",
    "\n",
    "# the keyword \"or\" only evaluates to True when EITHER ONE of the conditions are True.\n",
    "# It only returns False if both statements are False.\n",
    "\n",
    "if semesters_completed > 8 or units_finished > 144:\n",
    "    print(\"The University considers you graduated.\")\n",
    "else:\n",
    "    print(\"You've got more classes to finish.\")\n"
   ]
  },
  {
   "cell_type": "markdown",
   "metadata": {
    "cell_id": "88c70c07774f413387cde5028fc26114",
    "deepnote_cell_type": "markdown"
   },
   "source": [
    "#### Try It 2.4B - Logic (OR)"
   ]
  },
  {
   "cell_type": "code",
   "execution_count": null,
   "metadata": {
    "cell_id": "8bfcf616ada24280a8d25b5b9491a884",
    "deepnote_cell_type": "code"
   },
   "outputs": [],
   "source": [
    "# Look at the code again. \n",
    "# 1. Edit the variables to make the output \"The University considers you graduated.\"\n",
    "\n",
    "if semesters_completed > 8 or units_finished > 144:\n",
    "    print(\"The University considers you graduatehttp://localhost:8888/notebooks/Meeting1.ipynb#d.\")\n",
    "else:\n",
    "    print(\"You've got more classes to finish.\")"
   ]
  },
  {
   "cell_type": "markdown",
   "metadata": {
    "cell_id": "34ae2ac3848e4db28c332fccd7338f69",
    "deepnote_cell_type": "markdown"
   },
   "source": [
    "### 3. Loops"
   ]
  },
  {
   "cell_type": "markdown",
   "metadata": {
    "cell_id": "edd976c3820e45ef9df0c50060183770",
    "deepnote_cell_type": "markdown"
   },
   "source": [
    "#### For loop"
   ]
  },
  {
   "cell_type": "code",
   "execution_count": 27,
   "metadata": {
    "cell_id": "8ea3f3d9667c42648b2f910ebc3500bc",
    "deepnote_cell_type": "code"
   },
   "outputs": [
    {
     "name": "stdout",
     "output_type": "stream",
     "text": [
      "Yellow\n",
      "Blue\n",
      "Red\n"
     ]
    }
   ],
   "source": [
    "my_set_of_colors = {\"Red\", \"Yellow\", \"Blue\"}\n",
    "for colors in my_set_of_colors:\n",
    "    print(colors)"
   ]
  },
  {
   "cell_type": "markdown",
   "metadata": {
    "cell_id": "bdb4ed0065fe4fe78734a5dee0707215",
    "deepnote_cell_type": "markdown"
   },
   "source": [
    "#### Now you try"
   ]
  },
  {
   "cell_type": "code",
   "execution_count": 28,
   "metadata": {
    "cell_id": "3a18bc32c5394ad6ab0a810a460eb061",
    "deepnote_cell_type": "code"
   },
   "outputs": [],
   "source": [
    "my_set_of_numbers = {1,2,3,4,5}\n",
    "\n",
    "#fill in the blanks below to print out the \n",
    "#numbers in the set of numbers\n",
    "\n",
    "for ___ in ____:\n",
    "    print(___)\n"
   ]
  },
  {
   "cell_type": "code",
   "execution_count": null,
   "metadata": {
    "cell_id": "cd953caec1da480c89ca500f69668763",
    "deepnote_cell_type": "code"
   },
   "outputs": [],
   "source": []
  },
  {
   "cell_type": "markdown",
   "metadata": {
    "cell_id": "b574ab4f752c4850bde5c6cc6b8888d8",
    "deepnote_cell_type": "markdown"
   },
   "source": [
    "#### While loop"
   ]
  },
  {
   "cell_type": "code",
   "execution_count": 1,
   "metadata": {
    "cell_id": "cd6a7f0f48604bff89f742dadf364dd8",
    "deepnote_cell_type": "code"
   },
   "outputs": [
    {
     "name": "stdout",
     "output_type": "stream",
     "text": [
      "Still in while loop\n",
      "Still in while loop\n",
      "Still in while loop\n",
      "No longer in loop\n"
     ]
    }
   ],
   "source": [
    "counter = 3\n",
    "\n",
    "while counter > 0:\n",
    "    print(\"Still in while loop\")\n",
    "    counter -= 1\n",
    "    \n",
    "print(\"No longer in loop\")"
   ]
  },
  {
   "cell_type": "markdown",
   "metadata": {
    "cell_id": "9cf98aead01a4eeaa5e717aad61a88cd",
    "deepnote_cell_type": "markdown"
   },
   "source": [
    "#### Now you try"
   ]
  },
  {
   "cell_type": "code",
   "execution_count": 4,
   "metadata": {
    "cell_id": "f96136492851471a8b914f18b918a81c",
    "deepnote_cell_type": "code"
   },
   "outputs": [
    {
     "ename": "NameError",
     "evalue": "name '____' is not defined",
     "output_type": "error",
     "traceback": [
      "\u001B[1;31m---------------------------------------------------------------------------\u001B[0m",
      "\u001B[1;31mNameError\u001B[0m                                 Traceback (most recent call last)",
      "Cell \u001B[1;32mIn[4], line 6\u001B[0m\n\u001B[0;32m      1\u001B[0m \u001B[38;5;66;03m# task: print out numbers from 0 to 5 by filling out\u001B[39;00m\n\u001B[0;32m      2\u001B[0m \u001B[38;5;66;03m#       the blanks below\u001B[39;00m\n\u001B[0;32m      4\u001B[0m number \u001B[38;5;241m=\u001B[39m \u001B[38;5;241m0\u001B[39m\n\u001B[1;32m----> 6\u001B[0m \u001B[38;5;28;01mwhile\u001B[39;00m \u001B[43m____\u001B[49m:\n\u001B[0;32m      7\u001B[0m     \u001B[38;5;28mprint\u001B[39m(number)\n\u001B[0;32m      8\u001B[0m     number \u001B[38;5;241m+\u001B[39m\u001B[38;5;241m=\u001B[39m \u001B[38;5;241m1\u001B[39m\n",
      "\u001B[1;31mNameError\u001B[0m: name '____' is not defined"
     ]
    }
   ],
   "source": [
    "# task: print out numbers from 0 to 5 by filling out\n",
    "#       the blanks below\n",
    "\n",
    "number = 0\n",
    "\n",
    "while ____:\n",
    "    print(number)\n",
    "    number += 1\n"
   ]
  },
  {
   "cell_type": "markdown",
   "metadata": {
    "cell_id": "50ebd24b67db492d8b34e62859b4066d",
    "deepnote_cell_type": "markdown"
   },
   "source": [
    "### Functions"
   ]
  },
  {
   "cell_type": "code",
   "execution_count": 10,
   "metadata": {
    "cell_id": "e9bc5c104b8e4a279d1bdf56117ef33e",
    "deepnote_cell_type": "code"
   },
   "outputs": [],
   "source": [
    "def myfunction(word):\n",
    "    print(word)"
   ]
  },
  {
   "cell_type": "code",
   "execution_count": 11,
   "metadata": {
    "cell_id": "7d61e1bed1c540589a7c5230e2ff7b23",
    "deepnote_cell_type": "code",
    "scrolled": true
   },
   "outputs": [
    {
     "name": "stdout",
     "output_type": "stream",
     "text": [
      "Hello\n"
     ]
    }
   ],
   "source": [
    "myfunction(\"Hello\")"
   ]
  },
  {
   "cell_type": "code",
   "execution_count": null,
   "metadata": {
    "cell_id": "a37bbd3f63a14ad0b9c44a291a2376f2",
    "deepnote_cell_type": "code"
   },
   "outputs": [],
   "source": [
    "# task define a function that will add 1 to a number \n",
    "# then print out that number\n",
    "\n",
    "def yourfunction(number):\n",
    "    _____\n",
    "    print(___)\n",
    "    "
   ]
  },
  {
   "cell_type": "code",
   "execution_count": null,
   "metadata": {
    "cell_id": "57c9990113044287a15cde770a849d7d",
    "deepnote_cell_type": "code"
   },
   "outputs": [],
   "source": [
    "yourfunction(1)\n",
    "\n",
    "#this should print out \"2\" if defined properly"
   ]
  },
  {
   "cell_type": "markdown",
   "metadata": {
    "cell_id": "8497fdd0a34348bc8ae203631ee877f1",
    "deepnote_cell_type": "markdown"
   },
   "source": [
    "### Modules"
   ]
  },
  {
   "cell_type": "markdown",
   "metadata": {
    "cell_id": "21d27c86dd034fcf97b9345ba43c93dc",
    "deepnote_cell_type": "markdown"
   },
   "source": [
    "#### Note: it is important to have the file to import. Because of this you need to have the file called \"mymodule.py\""
   ]
  },
  {
   "cell_type": "code",
   "execution_count": 13,
   "metadata": {
    "cell_id": "fbca9b5a87004612bbeb010ec754a291",
    "deepnote_cell_type": "code",
    "scrolled": true
   },
   "outputs": [
    {
     "name": "stdout",
     "output_type": "stream",
     "text": [
      "Hello, Logan\n"
     ]
    }
   ],
   "source": [
    "import mymodule as my\n",
    "\n",
    "my.greeting(\"Logan\")\n",
    "\n",
    "# the prototype of this function looks like below\n",
    "# def greeting(name)"
   ]
  },
  {
   "cell_type": "markdown",
   "metadata": {
    "cell_id": "9a9b9964b8c54a6a8ffda3eff83ee80c",
    "deepnote_cell_type": "markdown"
   },
   "source": [
    "#### Now you try"
   ]
  },
  {
   "cell_type": "code",
   "execution_count": 14,
   "metadata": {
    "cell_id": "3cb0dc786a9d4691bab40062a04198b7",
    "deepnote_cell_type": "code"
   },
   "outputs": [],
   "source": [
    "# there is a function whose prototype looks like below\n",
    "# def multiplication(number1, number2)\n",
    "# it multiplies the two numbers and prints them\n",
    "# this function is in the mymodule module\n",
    "\n",
    "# task: using the module below, print out the number 6\n",
    "import mymodule as my\n",
    "\n",
    "___(_,_)"
   ]
  },
  {
   "cell_type": "markdown",
   "metadata": {
    "cell_id": "5a20020a005643ada4bafcb59194036e",
    "deepnote_cell_type": "text-cell-h2",
    "formattedRanges": [],
    "is_collapsed": false,
    "tags": []
   },
   "source": [
    "## MORE exercises"
   ]
  },
  {
   "cell_type": "markdown",
   "metadata": {
    "cell_id": "79ec365b-9383-43a5-8b7c-c536ab5dff1e",
    "deepnote_cell_type": "text-cell-p",
    "formattedRanges": [],
    "is_collapsed": false,
    "tags": []
   },
   "source": [
    "### Task A: Dictionaries"
   ]
  },
  {
   "cell_type": "markdown",
   "metadata": {
    "cell_id": "0dbda1f8-c26e-413e-8ec5-16e5539c4ee8",
    "deepnote_cell_type": "text-cell-p",
    "formattedRanges": [],
    "is_collapsed": false,
    "tags": []
   },
   "source": [
    "Let's go over how to manipulate data between several data types."
   ]
  },
  {
   "cell_type": "markdown",
   "metadata": {
    "cell_id": "8fc0f343-1833-403a-b75e-b022043e457c",
    "deepnote_cell_type": "text-cell-p",
    "formattedRanges": [],
    "is_collapsed": false,
    "tags": []
   },
   "source": [
    "Let's say you are given data on the names of several types of animals:"
   ]
  },
  {
   "cell_type": "code",
   "execution_count": 3,
   "metadata": {
    "cell_id": "d814b574-17ef-48c0-97c4-65d47b0f29b9",
    "deepnote_cell_type": "code",
    "deepnote_to_be_reexecuted": false,
    "execution_millis": 2,
    "execution_start": 1678045067764,
    "source_hash": "d005e548",
    "tags": []
   },
   "outputs": [],
   "source": [
    "cat_names = [\"Tom\", \"King Charles\", \"Cow\", \"Pestilence\", \"Goblin\"]\n",
    "dog_names = {\"Princess\", \"Cuddles\", \"Bowser\", \"Beans\"}\n",
    "bird_names = (\"Inko\", \"Jaiden\", \"James Charles\", \"Banana\")\n",
    "hamster_names = [\"Ball\", \"Whiskers\", \"Seeds\", \"Hunger\"]"
   ]
  },
  {
   "cell_type": "markdown",
   "metadata": {
    "cell_id": "a037c9f3-8e53-46f4-8ff2-81c44964781c",
    "deepnote_cell_type": "text-cell-p",
    "formattedRanges": [],
    "is_collapsed": false,
    "tags": []
   },
   "source": [
    "Notice they are stored in different data types. [Look at slides from workshop 1 if you don't remember them!]"
   ]
  },
  {
   "cell_type": "markdown",
   "metadata": {
    "cell_id": "c6941ba8-64b9-4145-81aa-3ca0e13c0654",
    "deepnote_cell_type": "text-cell-p",
    "formattedRanges": [],
    "is_collapsed": false,
    "tags": []
   },
   "source": [
    "We want you to transfer this data into a dictionary. The dictionary should function as follows:"
   ]
  },
  {
   "cell_type": "markdown",
   "metadata": {
    "cell_id": "3ee86c41-f7e8-4be6-a321-fb6b6372da15",
    "deepnote_cell_type": "text-cell-number",
    "formattedRanges": [
     {
      "fromCodePoint": 19,
      "marks": {
       "bold": true
      },
      "toCodePoint": 27,
      "type": "marks"
     }
    ],
    "is_collapsed": false,
    "number": 1,
    "style": "decimal",
    "tags": []
   },
   "source": [
    "1. It should be named **pet_dict**\n",
    "2. It should have the keys **\"dogs\", \"cats\", \"birds\",** and **\"hamsters\"**\n",
    "3. When the dictionary is called with a key (i.e. **pet_dict[\"dogs\"]** for example), it should return a **list** of all names of that pet type (it should return **[\"Princess\", \"Cuddles\", \"Bowser\", \"Beans\"]** in this case)."
   ]
  },
  {
   "cell_type": "markdown",
   "metadata": {
    "cell_id": "195b6717-21a4-4e07-b80e-493159e51e94",
    "deepnote_cell_type": "text-cell-p",
    "formattedRanges": [
     {
      "fromCodePoint": 87,
      "marks": {
       "bold": true
      },
      "toCodePoint": 94,
      "type": "marks"
     }
    ],
    "is_collapsed": false,
    "style": "decimal",
    "tags": []
   },
   "source": [
    "Initialize a dictionary with the data given that satisfies these constraints. Finally, **print()** the contents of the dictionary to check your work (this part is done for you)"
   ]
  },
  {
   "cell_type": "code",
   "execution_count": 7,
   "metadata": {
    "cell_id": "d414be0e-8352-44e5-acde-2d78e0904f0f",
    "deepnote_cell_type": "code",
    "deepnote_to_be_reexecuted": false,
    "execution_millis": 3,
    "execution_start": 1678045393759,
    "source_hash": "dc31209e",
    "tags": []
   },
   "outputs": [],
   "source": [
    "# YOUR CODE HERE -- You have access to the variables we declared in the last code block \n",
    "# (cat_names, dog_names, etc.)\n",
    "\n",
    "pet_dict = {}    # Fill this in\n",
    "\n",
    "print(pet_dict)"
   ]
  },
  {
   "cell_type": "markdown",
   "metadata": {
    "created_in_deepnote_cell": true,
    "deepnote_cell_type": "markdown",
    "tags": []
   },
   "source": [
    "<a style='text-decoration:none;line-height:16px;display:flex;color:#5B5B62;padding:10px;justify-content:end;' href='https://deepnote.com?utm_source=created-in-deepnote-cell&projectId=89c225d8-9d91-436f-b19c-fda74d6aabb4' target=\"_blank\">\n",
    "<img alt='Created in deepnote.com' style='display:inline;max-height:16px;margin:0px;margin-right:7.5px;' src='data:image/svg+xml;base64,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' > </img>\n",
    "Created in <span style='font-weight:600;margin-left:4px;'>Deepnote</span></a>"
   ]
  }
 ],
 "metadata": {
  "deepnote": {},
  "deepnote_execution_queue": [],
  "deepnote_notebook_id": "a3081dc8273241d1a018eff7c5fa8a89",
  "kernelspec": {
   "display_name": "Python 3",
   "language": "python",
   "name": "python3"
  },
  "language_info": {
   "codemirror_mode": {
    "name": "ipython",
    "version": 3
   },
   "file_extension": ".py",
   "mimetype": "text/x-python",
   "name": "python",
   "nbconvert_exporter": "python",
   "pygments_lexer": "ipython3",
   "version": "3.8.8"
  }
 },
 "nbformat": 4,
 "nbformat_minor": 1
}
