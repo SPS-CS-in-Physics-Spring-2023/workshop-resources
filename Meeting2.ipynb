{
 "cells": [
  {
   "cell_type": "markdown",
   "metadata": {
    "cell_id": "25ef8abbf7a7487bbb1061bf8143f5e3",
    "deepnote_cell_type": "text-cell-h2",
    "formattedRanges": [],
    "is_collapsed": false,
    "tags": []
   },
   "source": [
    "# Git Setup"
   ]
  },
  {
   "cell_type": "markdown",
   "metadata": {
    "cell_id": "25ef8abbf7a7487bbb1061bf8143f5e3",
    "deepnote_cell_type": "text-cell-h2",
    "formattedRanges": [],
    "is_collapsed": false,
    "tags": []
   },
   "source": [
    "First, we'll set up github on your device. To do this, let's navigate to the website for CSCI 104 here at USC:\n",
    "\n",
    "https://bytes.usc.edu/cs104/labs/lab0/#install-git\n",
    "\n",
    "We'll be following their instructions, with modifications, to set up your accounts."
   ]
  },
  {
   "cell_type": "markdown",
   "metadata": {
    "cell_id": "25ef8abbf7a7487bbb1061bf8143f5e3",
    "deepnote_cell_type": "text-cell-h2",
    "formattedRanges": [],
    "is_collapsed": false,
    "tags": []
   },
   "source": [
    "# The Task"
   ]
  },
  {
   "cell_type": "markdown",
   "metadata": {
    "cell_id": "25ef8abbf7a7487bbb1061bf8143f5e3",
    "deepnote_cell_type": "text-cell-h2",
    "formattedRanges": [],
    "is_collapsed": false,
    "tags": []
   },
   "source": [
    "Run this block of code first. If you ever mess up something when you run code, restart and clear the kernel output from the **Kernel** menu above. This will reset all of your output from code you've run, but keep your changes to the code blocks themselves."
   ]
  },
  {
   "cell_type": "code",
   "execution_count": 1,
   "metadata": {
    "cell_id": "426cfdfdec464d7f8cf854e931b8254b",
    "deepnote_cell_type": "code",
    "deepnote_to_be_reexecuted": false,
    "execution_millis": 6,
    "execution_start": 1677695604698,
    "source_hash": "2062ac72",
    "tags": []
   },
   "outputs": [],
   "source": [
    "import numpy as np\n",
    "from math import *\n",
    "import matplotlib.pyplot as plt"
   ]
  },
  {
   "cell_type": "markdown",
   "metadata": {
    "cell_id": "b372b8db20da43c090ecc2f3682c5378",
    "deepnote_cell_type": "text-cell-p",
    "formattedRanges": [
     {
      "fromCodePoint": 16,
      "marks": {
       "bold": true
      },
      "toCodePoint": 29,
      "type": "marks"
     }
    ],
    "is_collapsed": false,
    "tags": []
   },
   "source": [
    "REMEMBER: Press **Shift + Enter** to Run a code block after you make edits."
   ]
  },
  {
   "cell_type": "markdown",
   "metadata": {
    "cell_id": "e12d41608d8e486994ebef8b59f2ece1",
    "deepnote_cell_type": "text-cell-h3",
    "formattedRanges": [],
    "is_collapsed": false,
    "tags": []
   },
   "source": [
    "## Task 1: Initializing Vectors"
   ]
  },
  {
   "cell_type": "code",
   "execution_count": 6,
   "metadata": {
    "cell_id": "539bb3eb412f41bebd0260adda98f85c",
    "deepnote_cell_type": "code",
    "deepnote_to_be_reexecuted": false,
    "execution_millis": 2,
    "execution_start": 1677868487539,
    "source_hash": "961758b3",
    "tags": []
   },
   "outputs": [
    {
     "name": "stdout",
     "output_type": "stream",
     "text": [
      "[0, 0, 0, 0, 0, 0, 0, 0, 0, 0]\n",
      "[0, 0, 0, 0, 0, 0, 0, 0, 0, 0]\n"
     ]
    }
   ],
   "source": [
    "    # In python, you can initialize a list of values of the same value by simply multiplying a \n",
    "    # list consisting of just one value by the number of values you want in the completed list.\n",
    "    #\n",
    "    # For example, lets make a list \"my_list1\" which is a list of 10 zeroes.\n",
    "    #\n",
    "    \n",
    "my_list1 = [0, 0, 0, 0, 0, 0, 0, 0, 0, 0]\n",
    "print(my_list1)\n",
    "\n",
    "    # is the same as declaring\n",
    "\n",
    "my_list2 = [0] * 10\n",
    "print(my_list2)"
   ]
  },
  {
   "cell_type": "markdown",
   "metadata": {
    "cell_id": "b85878d6a50c445caaf9eb0b7c3afb44",
    "deepnote_cell_type": "text-cell-p",
    "formattedRanges": [],
    "is_collapsed": false,
    "tags": []
   },
   "source": [
    " For the first task, we want you to initialize five variables, named:"
   ]
  },
  {
   "cell_type": "markdown",
   "metadata": {
    "cell_id": "d733c6a9-a721-4822-b508-da35364fb08b",
    "deepnote_cell_type": "text-cell-p",
    "formattedRanges": [
     {
      "fromCodePoint": 6,
      "marks": {
       "bold": true
      },
      "toCodePoint": 16,
      "type": "marks"
     },
     {
      "fromCodePoint": 22,
      "marks": {
       "bold": true
      },
      "toCodePoint": 33,
      "type": "marks"
     },
     {
      "fromCodePoint": 39,
      "marks": {
       "bold": true
      },
      "toCodePoint": 50,
      "type": "marks"
     },
     {
      "fromCodePoint": 56,
      "marks": {
       "bold": true
      },
      "toCodePoint": 64,
      "type": "marks"
     },
     {
      "fromCodePoint": 70,
      "marks": {
       "bold": true
      },
      "toCodePoint": 78,
      "type": "marks"
     },
     {
      "fromCodePoint": 123,
      "marks": {
       "bold": true
      },
      "toCodePoint": 131,
      "type": "marks"
     },
     {
      "fromCodePoint": 180,
      "marks": {
       "bold": true
      },
      "toCodePoint": 188,
      "type": "marks"
     },
     {
      "fromCodePoint": 243,
      "marks": {
       "bold": true
      },
      "toCodePoint": 251,
      "type": "marks"
     }
    ],
    "is_collapsed": false,
    "tags": []
   },
   "source": [
    "   1. **time_vec**\n",
    "   2. **theta_vec**\n",
    "   3. **omega_vec**\n",
    "   4. **KE_vec**\n",
    "   5. **PE_vec**\n",
    "  \n",
    "and set them all equal to a list of size **numsteps**, where all values are zeroes (We will give you numsteps for now. You will notice in the final simulation that numsteps is provided to you as a parameter of the function with which we run the simulation)\n",
    "\n",
    "What are these five variables? They are going to keep track of each of the values they represent\n",
    " (time, angular position theta, Kinetic Energy, etc.) over for the number of timesteps (numsteps) \n",
    "the user specifies. Hence, if the user specifies 10 timesteps, for example, it will store the \n",
    "10 values, one for each time step. "
   ]
  },
  {
   "cell_type": "code",
   "execution_count": null,
   "metadata": {
    "cell_id": "3a1418348e084185b639c3470c76fe87",
    "deepnote_cell_type": "code",
    "deepnote_to_be_reexecuted": false,
    "execution_millis": 2,
    "execution_start": 1677868739148,
    "source_hash": "94544d2c",
    "tags": []
   },
   "outputs": [],
   "source": [
    "numsteps = 500\n",
    "\n",
    "# Working space - set up the five variables here, using \"numsteps\"\n",
    "\n",
    "# YOUR CODE HERE #"
   ]
  },
  {
   "cell_type": "markdown",
   "metadata": {
    "cell_id": "c2ee7068181c4f6aa1707544dc27f797",
    "deepnote_cell_type": "text-cell-h3",
    "formattedRanges": [],
    "is_collapsed": false,
    "tags": []
   },
   "source": [
    "## Task 2: Working with functions"
   ]
  },
  {
   "cell_type": "markdown",
   "metadata": {
    "cell_id": "194be122-9d93-44d3-8605-8c49c0980051",
    "deepnote_cell_type": "text-cell-p",
    "formattedRanges": [],
    "is_collapsed": false,
    "tags": []
   },
   "source": [
    "How do you put the parameters you are given in a function definition into use? Well, in our simulation, we will be provided plenty of parameters in our function definition for our program. We need to use some of them to initialize our variables we will keep track of."
   ]
  },
  {
   "cell_type": "markdown",
   "metadata": {
    "cell_id": "7de5becf-3dcd-4bac-8b11-fdccf625abaf",
    "deepnote_cell_type": "text-cell-p",
    "formattedRanges": [],
    "is_collapsed": false,
    "tags": []
   },
   "source": [
    "Let's work with a simplified version of our pendulum simulation function. Here, initialize two variables "
   ]
  },
  {
   "cell_type": "markdown",
   "metadata": {
    "cell_id": "9d3cd3b2-644c-44e9-ada4-526be830face",
    "deepnote_cell_type": "text-cell-number",
    "formattedRanges": [
     {
      "fromCodePoint": 0,
      "marks": {
       "bold": true
      },
      "toCodePoint": 5,
      "type": "marks"
     }
    ],
    "is_collapsed": false,
    "number": 1,
    "style": "decimal",
    "tags": []
   },
   "source": [
    "1. **theta**\n",
    "2. **omega**"
   ]
  },
  {
   "cell_type": "markdown",
   "metadata": {
    "cell_id": "43299660-7b63-46cc-9511-be74114b2bbc",
    "deepnote_cell_type": "text-cell-p",
    "formattedRanges": [],
    "is_collapsed": false,
    "style": "decimal",
    "tags": []
   },
   "source": [
    "and initialize them to "
   ]
  },
  {
   "cell_type": "markdown",
   "metadata": {
    "cell_id": "0ad55374-2799-43cf-b394-2e8da0629a72",
    "deepnote_cell_type": "text-cell-number",
    "formattedRanges": [
     {
      "fromCodePoint": 14,
      "marks": {
       "bold": true
      },
      "toCodePoint": 20,
      "type": "marks"
     }
    ],
    "is_collapsed": false,
    "number": 1,
    "style": "decimal",
    "tags": []
   },
   "source": [
    "1. the paramater **theta0**\n",
    "2. the parameter **omega0**"
   ]
  },
  {
   "cell_type": "markdown",
   "metadata": {
    "cell_id": "27888a34-5c97-4186-9e1b-df8bea6f9613",
    "deepnote_cell_type": "text-cell-p",
    "formattedRanges": [],
    "is_collapsed": false,
    "style": "decimal",
    "tags": []
   },
   "source": [
    "respectively. "
   ]
  },
  {
   "cell_type": "code",
   "execution_count": null,
   "metadata": {
    "cell_id": "c91d15f5ee264cfabdf42e1a78335568",
    "deepnote_cell_type": "code",
    "deepnote_to_be_reexecuted": false,
    "execution_millis": 7,
    "execution_start": 1678044676029,
    "source_hash": "5d3a2e0f",
    "tags": []
   },
   "outputs": [],
   "source": [
    "def simplePendulumSimulation(theta0,omega0):\n",
    "    \n",
    "    # YOUR CODE HERE #"
   ]
  },
  {
   "cell_type": "markdown",
   "metadata": {
    "cell_id": "915a6ed975794d47be63fd3ecec3547e",
    "deepnote_cell_type": "text-cell-p",
    "formattedRanges": [],
    "is_collapsed": false,
    "tags": []
   },
   "source": [
    "But how can we test code like this? Let's call this simplified version of our function to see what it does. "
   ]
  },
  {
   "cell_type": "markdown",
   "metadata": {
    "cell_id": "cac9280b-dec5-498d-8f7b-47e1fadc7b08",
    "deepnote_cell_type": "text-cell-p",
    "formattedRanges": [
     {
      "fromCodePoint": 85,
      "marks": {
       "bold": true
      },
      "toCodePoint": 90,
      "type": "marks"
     },
     {
      "fromCodePoint": 126,
      "marks": {
       "bold": true
      },
      "toCodePoint": 132,
      "type": "marks"
     },
     {
      "fromCodePoint": 135,
      "marks": {
       "bold": true
      },
      "toCodePoint": 141,
      "type": "marks"
     }
    ],
    "is_collapsed": false,
    "tags": []
   },
   "source": [
    "First, go back to the previous code block and make it so that the function returns a tuple of the two values you initialized, **theta** and **omega**. [If you're confused, ask us!]"
   ]
  },
  {
   "cell_type": "markdown",
   "metadata": {
    "cell_id": "e47612f6-6d6e-4d39-8dd9-96a37d39e21b",
    "deepnote_cell_type": "text-cell-p",
    "formattedRanges": [],
    "is_collapsed": false,
    "tags": []
   },
   "source": [
    "Now, in the following code block:"
   ]
  },
  {
   "cell_type": "markdown",
   "metadata": {
    "cell_id": "b51b7ffe-be29-461d-b5ff-dcecccd6a8c6",
    "deepnote_cell_type": "text-cell-number",
    "formattedRanges": [
     {
      "fromCodePoint": 18,
      "marks": {
       "bold": true
      },
      "toCodePoint": 44,
      "type": "marks"
     }
    ],
    "is_collapsed": false,
    "number": 1,
    "style": "decimal",
    "tags": []
   },
   "source": [
    "1. Call the function **simplePendulumSimulation()**. Remember, when you call a function, you must provide the parameters. Choose values that are appropriate as parameters."
   ]
  },
  {
   "cell_type": "markdown",
   "metadata": {
    "cell_id": "aa674870-fdac-4ca2-92bd-b318e14d04ed",
    "deepnote_cell_type": "text-cell-number",
    "formattedRanges": [],
    "is_collapsed": false,
    "style": "decimal",
    "tags": []
   },
   "source": [
    "2. Save its value in a variable with a name of your choice"
   ]
  },
  {
   "cell_type": "markdown",
   "metadata": {
    "cell_id": "30f4f853-e0d2-455f-90f0-76218f8e0a18",
    "deepnote_cell_type": "text-cell-number",
    "formattedRanges": [
     {
      "fromCodePoint": 8,
      "marks": {
       "bold": true
      },
      "toCodePoint": 15,
      "type": "marks"
     }
    ],
    "is_collapsed": false,
    "style": "decimal",
    "tags": []
   },
   "source": [
    "3. Use the **print()** command to print out the variable you saved your results in."
   ]
  },
  {
   "cell_type": "markdown",
   "metadata": {
    "cell_id": "ce17fe95-48c6-4cbb-abf3-a22b75876ba4",
    "deepnote_cell_type": "text-cell-p",
    "formattedRanges": [],
    "is_collapsed": false,
    "style": "decimal",
    "tags": []
   },
   "source": [
    "What do you get when you run the code? Is it what you would expect? Do they match your input into the function?"
   ]
  },
  {
   "cell_type": "code",
   "execution_count": null,
   "metadata": {
    "cell_id": "d54562d596dd4194a4cbdc61dafd1ec7",
    "deepnote_cell_type": "code",
    "deepnote_to_be_reexecuted": false,
    "execution_millis": 61,
    "execution_start": 1678044682567,
    "source_hash": "996d45ec",
    "tags": []
   },
   "outputs": [],
   "source": [
    "# YOUR CODE HERE #\n"
   ]
  },
  {
   "cell_type": "markdown",
   "metadata": {
    "cell_id": "98275448f8aa47219e3c4c4a5d46e70b",
    "deepnote_cell_type": "text-cell-h3",
    "formattedRanges": [],
    "is_collapsed": false,
    "tags": []
   },
   "source": [
    "## Task 3: The Calculations"
   ]
  },
  {
   "cell_type": "markdown",
   "metadata": {
    "cell_id": "9b1b7aabdd4343d2ba82d2671ad37e49",
    "deepnote_cell_type": "text-cell-p",
    "formattedRanges": [],
    "is_collapsed": false,
    "tags": []
   },
   "source": [
    "Now that we've initialized everything for our simulation, we just need to calculate, and then fill in, the appropriate values at each time step. To do this, let's first go over what our methodology is:"
   ]
  },
  {
   "cell_type": "markdown",
   "metadata": {
    "cell_id": "8ab88c7f-3178-4de4-9930-17b09620406c",
    "deepnote_cell_type": "text-cell-p",
    "formattedRanges": [],
    "is_collapsed": false,
    "tags": []
   },
   "source": [
    "The basic intuition is this: For each time step, we will calculate the values of **time_vec**, **theta_vec**, **omega_vec**, **KE_vec**, and **PE_vec**. We will then use these values as points we can plot on a graph [Think: we can plot a scatter plot of KE_vec vs. time_vec to show us how Kinetic Energy changes with respect to time!]"
   ]
  },
  {
   "cell_type": "markdown",
   "metadata": {
    "cell_id": "2f6bceec-d9e9-4c71-8f6a-d10b8c9afe93",
    "deepnote_cell_type": "text-cell-p",
    "formattedRanges": [],
    "is_collapsed": false,
    "tags": []
   },
   "source": [
    "Alright, so how do we do this? We're going to use those variables we just declared, **theta** and **omega**. Let's define them now."
   ]
  },
  {
   "cell_type": "markdown",
   "metadata": {
    "cell_id": "ba6990f0-bba2-4620-8198-ba55c12aabad",
    "deepnote_cell_type": "text-cell-number",
    "formattedRanges": [],
    "is_collapsed": false,
    "number": 1,
    "style": "decimal",
    "tags": []
   },
   "source": [
    "1. **theta** keeps track of the angle of the pendulum with respect to the vertical (angular position)"
   ]
  },
  {
   "cell_type": "markdown",
   "metadata": {
    "cell_id": "dfe43507-b301-4579-8e58-9429e0086705",
    "deepnote_cell_type": "text-cell-number",
    "formattedRanges": [],
    "is_collapsed": false,
    "style": "decimal",
    "tags": []
   },
   "source": [
    "2. **omega** keeps track of the angular velocity of the pendulum"
   ]
  },
  {
   "cell_type": "markdown",
   "metadata": {
    "cell_id": "96be01e7-37c8-410f-8857-7bbb5fe9c789",
    "deepnote_cell_type": "text-cell-p",
    "formattedRanges": [],
    "is_collapsed": false,
    "style": "decimal",
    "tags": []
   },
   "source": [
    "Let's remind ourselves of the physics. For a pendulum, the equation "
   ]
  },
  {
   "cell_type": "markdown",
   "metadata": {
    "cell_id": "42ec1091-aff9-47b1-a6e9-21d8e2f6ddd8",
    "deepnote_cell_type": "text-cell-p",
    "formattedRanges": [],
    "is_collapsed": false,
    "style": "decimal",
    "tags": []
   },
   "source": [
    "$$\\frac{d\\mathbfω}{dt} = -\\frac{g}{L}\\sin{(θ)}$$"
   ]
  },
  {
   "cell_type": "markdown",
   "metadata": {
    "cell_id": "d9b35837-29be-450d-af38-3345e3e6b218",
    "deepnote_cell_type": "text-cell-p",
    "formattedRanges": [],
    "is_collapsed": false,
    "tags": []
   },
   "source": [
    "relates the change in the angular velocity with respect to time, in terms of the angular position of the pendulum."
   ]
  },
  {
   "cell_type": "markdown",
   "metadata": {
    "cell_id": "e35721cb-e0b6-4371-8451-c0e93279af11",
    "deepnote_cell_type": "text-cell-p",
    "formattedRanges": [],
    "is_collapsed": false,
    "style": "decimal",
    "tags": []
   },
   "source": [
    "Further, we know from the laws of angular motion that"
   ]
  },
  {
   "cell_type": "markdown",
   "metadata": {
    "cell_id": "7a1f340d-73f4-4620-8585-7fb4008afe6f",
    "deepnote_cell_type": "text-cell-number",
    "formattedRanges": [],
    "is_collapsed": false,
    "number": 1,
    "style": "decimal",
    "tags": []
   },
   "source": [
    "$$\\frac{d\\mathbfθ}{dt} = \\mathbfω$$"
   ]
  },
  {
   "cell_type": "markdown",
   "metadata": {
    "cell_id": "e35721cb-e0b6-4371-8451-c0e93279af11",
    "deepnote_cell_type": "text-cell-p",
    "formattedRanges": [],
    "is_collapsed": false,
    "style": "decimal",
    "tags": []
   },
   "source": [
    "So, we can derive the two equations"
   ]
  },
  {
   "cell_type": "markdown",
   "metadata": {
    "cell_id": "e35721cb-e0b6-4371-8451-c0e93279af11",
    "deepnote_cell_type": "text-cell-p",
    "formattedRanges": [],
    "is_collapsed": false,
    "style": "decimal",
    "tags": []
   },
   "source": [
    "$$d\\mathbfω= -\\frac{g}{L}\\sin{\\mathbf(θ)}dt$$"
   ]
  },
  {
   "cell_type": "markdown",
   "metadata": {
    "cell_id": "e35721cb-e0b6-4371-8451-c0e93279af11",
    "deepnote_cell_type": "text-cell-p",
    "formattedRanges": [],
    "is_collapsed": false,
    "style": "decimal",
    "tags": []
   },
   "source": [
    "$$d\\mathbfθ = \\mathbfω dt$$"
   ]
  },
  {
   "cell_type": "markdown",
   "metadata": {
    "cell_id": "e35721cb-e0b6-4371-8451-c0e93279af11",
    "deepnote_cell_type": "text-cell-p",
    "formattedRanges": [],
    "is_collapsed": false,
    "style": "decimal",
    "tags": []
   },
   "source": [
    "If you are not familiar with calculus, all this means is that"
   ]
  },
  {
   "cell_type": "markdown",
   "metadata": {
    "cell_id": "e35721cb-e0b6-4371-8451-c0e93279af11",
    "deepnote_cell_type": "text-cell-p",
    "formattedRanges": [],
    "is_collapsed": false,
    "style": "decimal",
    "tags": []
   },
   "source": [
    "$$Δ\\mathbfω= ω-ω_0 =-\\frac{g}{L}\\sin{\\mathbf(θ)}Δt$$"
   ]
  },
  {
   "cell_type": "markdown",
   "metadata": {
    "cell_id": "e35721cb-e0b6-4371-8451-c0e93279af11",
    "deepnote_cell_type": "text-cell-p",
    "formattedRanges": [],
    "is_collapsed": false,
    "style": "decimal",
    "tags": []
   },
   "source": [
    "$$Δ\\mathbfθ = θ-θ_0 = \\mathbfω Δt$$"
   ]
  },
  {
   "cell_type": "markdown",
   "metadata": {
    "cell_id": "e35721cb-e0b6-4371-8451-c0e93279af11",
    "deepnote_cell_type": "text-cell-p",
    "formattedRanges": [],
    "is_collapsed": false,
    "style": "decimal",
    "tags": []
   },
   "source": [
    "where the change in time $Δt$ is very small (close to 0)."
   ]
  },
  {
   "cell_type": "markdown",
   "metadata": {
    "cell_id": "e35721cb-e0b6-4371-8451-c0e93279af11",
    "deepnote_cell_type": "text-cell-p",
    "formattedRanges": [],
    "is_collapsed": false,
    "style": "decimal",
    "tags": []
   },
   "source": [
    "How can we model these functions in our code? Well remember - we are using timesteps in our code. In otherwords, what if we have a variable **timestep** that is a number very close to 0 (for example, 0.01)? Then, when we are trying to calculate the angular velocity and angular position using the equations above, we can just use this variable in the place of $Δt$ if we are trying to calculate very small changes in $ω$ or $θ$."
   ]
  },
  {
   "cell_type": "markdown",
   "metadata": {
    "cell_id": "e35721cb-e0b6-4371-8451-c0e93279af11",
    "deepnote_cell_type": "text-cell-p",
    "formattedRanges": [],
    "is_collapsed": false,
    "style": "decimal",
    "tags": []
   },
   "source": [
    "Lastly, we notice that in order to calculate either $ω$ or $θ$ we need an initial $ω_0$ or $θ_0$ value to add to. Here is where programming principles come in."
   ]
  },
  {
   "cell_type": "markdown",
   "metadata": {
    "cell_id": "e35721cb-e0b6-4371-8451-c0e93279af11",
    "deepnote_cell_type": "text-cell-p",
    "formattedRanges": [],
    "is_collapsed": false,
    "style": "decimal",
    "tags": []
   },
   "source": [
    "What if we run a loop? We have already initialized **theta** ($θ$) and **omega** ($ω$) to the values **theta0** and **omega0** (which will be provided as parameters to the function) in Task 2. What if we run a loop **numstep** times, and in each iteration of the loop, we find the next values of **theta** and **omega** based on their values from the previous iteration? In other words:"
   ]
  },
  {
   "cell_type": "markdown",
   "metadata": {
    "cell_id": "e35721cb-e0b6-4371-8451-c0e93279af11",
    "deepnote_cell_type": "text-cell-p",
    "formattedRanges": [],
    "is_collapsed": false,
    "style": "decimal",
    "tags": []
   },
   "source": [
    "$$ω_n=ω_{n-1}-\\frac{g}{L}\\sin{(θ_{n-1})}Δt$$"
   ]
  },
  {
   "cell_type": "markdown",
   "metadata": {
    "cell_id": "e35721cb-e0b6-4371-8451-c0e93279af11",
    "deepnote_cell_type": "text-cell-p",
    "formattedRanges": [],
    "is_collapsed": false,
    "style": "decimal",
    "tags": []
   },
   "source": [
    "$$θ_n= θ_{n-1} + ω_n Δt$$"
   ]
  },
  {
   "cell_type": "markdown",
   "metadata": {
    "cell_id": "e35721cb-e0b6-4371-8451-c0e93279af11",
    "deepnote_cell_type": "text-cell-p",
    "formattedRanges": [],
    "is_collapsed": false,
    "style": "decimal",
    "tags": []
   },
   "source": [
    "We can write this in code! It's very easy to do this since for loops are iterative. Your job is to figure out how. We will provide you with the constants **g**, **L**, as well as the timestep $Δt$ for now. In the following code block:"
   ]
  },
  {
   "cell_type": "markdown",
   "metadata": {
    "cell_id": "e35721cb-e0b6-4371-8451-c0e93279af11",
    "deepnote_cell_type": "text-cell-p",
    "formattedRanges": [],
    "is_collapsed": false,
    "style": "decimal",
    "tags": []
   },
   "source": [
    "1. Create a for loop that runs **numstep** number of times. In the for loop:"
   ]
  },
  {
   "cell_type": "markdown",
   "metadata": {
    "cell_id": "e35721cb-e0b6-4371-8451-c0e93279af11",
    "deepnote_cell_type": "text-cell-p",
    "formattedRanges": [],
    "is_collapsed": false,
    "style": "decimal",
    "tags": []
   },
   "source": [
    "2. Define helper variables **theta_old** and **omega_old** and initialize them to **theta** and **omega** respectively. These will be the $ω$ and $θ$ variables from the last iteration. You have already initialized these values in Task 2."
   ]
  },
  {
   "cell_type": "markdown",
   "metadata": {
    "cell_id": "e35721cb-e0b6-4371-8451-c0e93279af11",
    "deepnote_cell_type": "text-cell-p",
    "formattedRanges": [],
    "is_collapsed": false,
    "style": "decimal",
    "tags": []
   },
   "source": [
    "3. Equate **theta** and **omega** to their respective equations in code, as defined in the equations above. [Hint: You will end up using **theta_old**, **omega_old**, **timestep**, **g**, and **L** in your equations.You will also need the **sin()** function]"
   ]
  },
  {
   "cell_type": "markdown",
   "metadata": {
    "cell_id": "e35721cb-e0b6-4371-8451-c0e93279af11",
    "deepnote_cell_type": "text-cell-p",
    "formattedRanges": [],
    "is_collapsed": false,
    "style": "decimal",
    "tags": []
   },
   "source": [
    "**NOTE**: To use the sine fuction, all you need to do is type \"sin({variable name})\" in the code. (We are able to do this since we imported the **math** library at the start of this notebook - it provides a bunch of functions like this to us!)"
   ]
  },
  {
   "cell_type": "code",
   "execution_count": 5,
   "metadata": {},
   "outputs": [
    {
     "name": "stdout",
     "output_type": "stream",
     "text": [
      "3.7285260608836013\n"
     ]
    }
   ],
   "source": [
    "# For example, if I wanted to calculate 5*sin(x), where x = 2.3:\n",
    "\n",
    "x = 2.3\n",
    "example_variable = 5*sin(x)\n",
    "print(example_variable)"
   ]
  },
  {
   "cell_type": "markdown",
   "metadata": {
    "cell_id": "e35721cb-e0b6-4371-8451-c0e93279af11",
    "deepnote_cell_type": "text-cell-p",
    "formattedRanges": [],
    "is_collapsed": false,
    "style": "decimal",
    "tags": []
   },
   "source": [
    "Using this information, fill in the following code block:"
   ]
  },
  {
   "cell_type": "code",
   "execution_count": null,
   "metadata": {},
   "outputs": [],
   "source": [
    "g = 9.8           # Gravitational constant on planet Earth\n",
    "L = 2             # Let's say the pendulum is 2 meters long\n",
    "timestep = 0.01   # We choose a suitable timestep close enough to zero such that our equations will work\n",
    "numsteps = 500    # From Task 1: let's say we have 500 timesteps. \n",
    "                  # (Question: how long, in seconds, does this specific simulation represent in total?)\n",
    "\n",
    "# To start off, we define the initial values of theta and omega as well (in the actual simulation, these will be passed to\n",
    "# you by a function parameter, as they were in Task 2)\n",
    "\n",
    "theta = 0.2\n",
    "omega = 0\n",
    "\n",
    "# 1. Create a for loop that iterates \"numstep\" times.\n",
    "# 2. Set up variables \"omega_old\" and \"theta_old\"\n",
    "# 3. Write the equations for \"theta\" and \"omega\"\n",
    "#\n",
    "# At each iteration (timestep), we will calculate these values. \n",
    "\n",
    "\n",
    "# YOUR CODE HERE #\n",
    "\n",
    "\n",
    "\n",
    "# Check correctness\n",
    "#\n",
    "# For g = 9.8, L = 2, timestep = 0.01, numsteps = 500, \n",
    "# printing out the final values of omega and theta should give you \n",
    "# 0.4415594835504697 and 0.011203117890457071 respectively.\n",
    "\n",
    "print(\"Final angular position: \" + str(theta))\n",
    "print(\"Final angular velocity: \" + str((omega))"
   ]
  },
  {
   "cell_type": "markdown",
   "metadata": {
    "cell_id": "e35721cb-e0b6-4371-8451-c0e93279af11",
    "deepnote_cell_type": "text-cell-p",
    "formattedRanges": [],
    "is_collapsed": false,
    "style": "decimal",
    "tags": []
   },
   "source": [
    "## Task 4: Finishing up the Calculations"
   ]
  },
  {
   "cell_type": "markdown",
   "metadata": {
    "cell_id": "e35721cb-e0b6-4371-8451-c0e93279af11",
    "deepnote_cell_type": "text-cell-p",
    "formattedRanges": [],
    "is_collapsed": false,
    "style": "decimal",
    "tags": []
   },
   "source": [
    "Now that we have figured out $θ$ and $ω$ for each timestep, we can use these values to calculate the five variables we initialized in Task 1, at each time step. Let's have a look at the equations."
   ]
  },
  {
   "cell_type": "markdown",
   "metadata": {
    "cell_id": "e35721cb-e0b6-4371-8451-c0e93279af11",
    "deepnote_cell_type": "text-cell-p",
    "formattedRanges": [],
    "is_collapsed": false,
    "style": "decimal",
    "tags": []
   },
   "source": [
    "1. **theta_vec** is just a list storing all of the theta (angular position) values calculated at each time step, so its equation is just"
   ]
  },
  {
   "cell_type": "markdown",
   "metadata": {
    "cell_id": "e35721cb-e0b6-4371-8451-c0e93279af11",
    "deepnote_cell_type": "text-cell-p",
    "formattedRanges": [],
    "is_collapsed": false,
    "style": "decimal",
    "tags": []
   },
   "source": [
    "$$θ[i] = θ_i$$"
   ]
  },
  {
   "cell_type": "markdown",
   "metadata": {
    "cell_id": "e35721cb-e0b6-4371-8451-c0e93279af11",
    "deepnote_cell_type": "text-cell-p",
    "formattedRanges": [],
    "is_collapsed": false,
    "style": "decimal",
    "tags": []
   },
   "source": [
    "Meaning you store the $i^{th}$ theta value at the $i^{th}$ index of the **theta_vec** list."
   ]
  },
  {
   "cell_type": "markdown",
   "metadata": {
    "cell_id": "e35721cb-e0b6-4371-8451-c0e93279af11",
    "deepnote_cell_type": "text-cell-p",
    "formattedRanges": [],
    "is_collapsed": false,
    "style": "decimal",
    "tags": []
   },
   "source": [
    "2. Similarly, **omega_vec** is just a list storing all of the omega (angular velocity) values calculated at each time step, so its equation is just"
   ]
  },
  {
   "cell_type": "markdown",
   "metadata": {
    "cell_id": "e35721cb-e0b6-4371-8451-c0e93279af11",
    "deepnote_cell_type": "text-cell-p",
    "formattedRanges": [],
    "is_collapsed": false,
    "style": "decimal",
    "tags": []
   },
   "source": [
    "$$ω[i] = ω_i$$"
   ]
  },
  {
   "cell_type": "markdown",
   "metadata": {
    "cell_id": "e35721cb-e0b6-4371-8451-c0e93279af11",
    "deepnote_cell_type": "text-cell-p",
    "formattedRanges": [],
    "is_collapsed": false,
    "style": "decimal",
    "tags": []
   },
   "source": [
    "Meaning you store the $i^{th}$ omega value at the $i^{th}$ index of the **omega_vec** list."
   ]
  },
  {
   "cell_type": "markdown",
   "metadata": {
    "cell_id": "e35721cb-e0b6-4371-8451-c0e93279af11",
    "deepnote_cell_type": "text-cell-p",
    "formattedRanges": [],
    "is_collapsed": false,
    "style": "decimal",
    "tags": []
   },
   "source": [
    "3. **time_vec** stores the current time of the simulation. If you think about it, after **i** iterations of the for loop, the time that has elapsed is given by"
   ]
  },
  {
   "cell_type": "markdown",
   "metadata": {
    "cell_id": "e35721cb-e0b6-4371-8451-c0e93279af11",
    "deepnote_cell_type": "text-cell-p",
    "formattedRanges": [],
    "is_collapsed": false,
    "style": "decimal",
    "tags": []
   },
   "source": [
    "$$ t[i] = iΔt$$"
   ]
  },
  {
   "cell_type": "markdown",
   "metadata": {
    "cell_id": "e35721cb-e0b6-4371-8451-c0e93279af11",
    "deepnote_cell_type": "text-cell-p",
    "formattedRanges": [],
    "is_collapsed": false,
    "style": "decimal",
    "tags": []
   },
   "source": [
    "Assuming you start at an initial time of 0, the time at the $i^{th}$ iteration of the for loop is just the constant **timestep** we have chosen, times the number of timesteps we have iterated over, **i**."
   ]
  },
  {
   "cell_type": "markdown",
   "metadata": {
    "cell_id": "e35721cb-e0b6-4371-8451-c0e93279af11",
    "deepnote_cell_type": "text-cell-p",
    "formattedRanges": [],
    "is_collapsed": false,
    "style": "decimal",
    "tags": []
   },
   "source": [
    "4. **KE_vec** stores the kinetic energy of the pendulum system at every timestep. The formula is"
   ]
  },
  {
   "cell_type": "markdown",
   "metadata": {
    "cell_id": "e35721cb-e0b6-4371-8451-c0e93279af11",
    "deepnote_cell_type": "text-cell-p",
    "formattedRanges": [],
    "is_collapsed": false,
    "style": "decimal",
    "tags": []
   },
   "source": [
    "$$ KE[i] = \\frac{1}{2}mL^2ω_i^2$$"
   ]
  },
  {
   "cell_type": "markdown",
   "metadata": {
    "cell_id": "e35721cb-e0b6-4371-8451-c0e93279af11",
    "deepnote_cell_type": "text-cell-p",
    "formattedRanges": [],
    "is_collapsed": false,
    "style": "decimal",
    "tags": []
   },
   "source": [
    "Which is equivalent to the Kinetic Energy formula you all may know, but is just represented differently in terms of angular velocity. This equations says that the Kinetic Energy at the $i^{th}$ iteration of the for loop is related to the angular velocity **omega** you calculated in that timestep, along with some constants **m** (mass) and **L** (length of pendulum rod)."
   ]
  },
  {
   "cell_type": "markdown",
   "metadata": {
    "cell_id": "e35721cb-e0b6-4371-8451-c0e93279af11",
    "deepnote_cell_type": "text-cell-p",
    "formattedRanges": [],
    "is_collapsed": false,
    "style": "decimal",
    "tags": []
   },
   "source": [
    "5. **PE_vec** stores the gravitational potential energy of the pendulum systems at every timestep. The formula is "
   ]
  },
  {
   "cell_type": "markdown",
   "metadata": {
    "cell_id": "e35721cb-e0b6-4371-8451-c0e93279af11",
    "deepnote_cell_type": "text-cell-p",
    "formattedRanges": [],
    "is_collapsed": false,
    "style": "decimal",
    "tags": []
   },
   "source": [
    "$$ PE[i] = mgL(1-\\cos{(θ_i)})$$"
   ]
  },
  {
   "cell_type": "markdown",
   "metadata": {
    "cell_id": "e35721cb-e0b6-4371-8451-c0e93279af11",
    "deepnote_cell_type": "text-cell-p",
    "formattedRanges": [],
    "is_collapsed": false,
    "style": "decimal",
    "tags": []
   },
   "source": [
    "You now have all the equations you need to write out the code for these variables! Let's continue the function from our last step, but this time we also store the values of **omega_vec**, **time_vec**, **theta_vec**, **KE_vec**, and **PE_vec** at each time step:"
   ]
  },
  {
   "cell_type": "code",
   "execution_count": null,
   "metadata": {},
   "outputs": [],
   "source": [
    "m = 2     # We need the constant mass of the pendulum as well.\n",
    "\n",
    "# You do not need to re-write the other intializations from the last code block, if you have already run the code block \n",
    "# with Shift + Enter. However, we will need to rewrite the part YOU wrote in the last block again.\n",
    "\n",
    "\n",
    "# PASTE your for loop, including the formulas for theta and omega, here. #\n",
    "\n",
    "\n",
    "    # Next, continue the for loop (keep the indentation) and write out the equations for each of the \n",
    "    # five variables at each time step.\n",
    "\n",
    "\n",
    "    # YOUR NEW CODE HERE #\n",
    "\n",
    "\n",
    "# Check correctness\n",
    "#\n",
    "# For g = 9.8, L = 2, timestep = 0.01, numsteps = 500, m = 2 \n",
    "#\n",
    "# Let's try printing out the last values in the lists you made. You should get \n",
    "# time_vec[499] = 4.99\n",
    "# theta_vec[499] = 0.011203117890457071 (same as Task #3!)\n",
    "# omega_vec[499] = 0.4415594835504697 (same as Task #3!)\n",
    "# KE_vec[499] = 0.77989911005343\n",
    "# PE_vec[499] = 0.0024599673398228994\n",
    "\n",
    "print(\"Final time: \" + str(time_vec[499]))\n",
    "print(\"Final angular position: \" + str(theta_vec[499]))\n",
    "print(\"Final angular velocity: \" + str(omega_vec[499]))\n",
    "print(\"Final Kinetic Energy: \" + str(KE_vec[499]))\n",
    "print(\"Final Potential Energy : \" + str (PE_vec[499]))"
   ]
  },
  {
   "cell_type": "markdown",
   "metadata": {
    "cell_id": "e35721cb-e0b6-4371-8451-c0e93279af11",
    "deepnote_cell_type": "text-cell-p",
    "formattedRanges": [],
    "is_collapsed": false,
    "style": "decimal",
    "tags": []
   },
   "source": [
    "## Task 5: Plotting"
   ]
  },
  {
   "cell_type": "markdown",
   "metadata": {
    "cell_id": "be25e006-2107-4ce1-8b99-e551b43f41a2",
    "deepnote_cell_type": "text-cell-number",
    "formattedRanges": [],
    "is_collapsed": false,
    "style": "decimal",
    "tags": []
   },
   "source": [
    "Let's put everything together. While we will not be writing out the entire simulation code at the moment, you have essentially performed all the necessary steps already. Now, for the next part, we will try plotting some of this data as a preview into what our final simulation will look like."
   ]
  },
  {
   "cell_type": "markdown",
   "metadata": {
    "cell_id": "be25e006-2107-4ce1-8b99-e551b43f41a2",
    "deepnote_cell_type": "text-cell-number",
    "formattedRanges": [],
    "is_collapsed": false,
    "style": "decimal",
    "tags": []
   },
   "source": [
    "Since we have not gone over libraries, we will guide you through this part. You will notice functions you may have never seen before; we will tell you what to write in them so that your job will only be to fill them out."
   ]
  },
  {
   "cell_type": "markdown",
   "metadata": {
    "cell_id": "be25e006-2107-4ce1-8b99-e551b43f41a2",
    "deepnote_cell_type": "text-cell-number",
    "formattedRanges": [],
    "is_collapsed": false,
    "style": "decimal",
    "tags": []
   },
   "source": [
    "Let's try plotting **angular position vs time** and **angular velocity vs. time** on the same graph!"
   ]
  },
  {
   "cell_type": "code",
   "execution_count": null,
   "metadata": {},
   "outputs": [],
   "source": [
    "# First, make a graph of angular position vs. time. \n",
    "# For a graph of y vs. x, the plt.plot() function looks like:\n",
    "# \n",
    "# plt.plot(x,y)\n",
    "# \n",
    "# Where x and y are two lists.\n",
    "# Accordingly, replace x and y with the varibles you want to graph as the x and y variables respectively.\n",
    "\n",
    "plt.plot(_____, _____, label = # Place a string that describes your y-value)\n",
    "plt.xlabel(# Write a string that will appear as the label for your x-axis)\n",
    "\n",
    "# Do the same for the angular position vs. time graph.\n",
    "plt.plot(_____,_____, label = # Place a string that describes your y-value)\n",
    "plt.xlabel(# Write a string that will appear as the label for your x-axis)\n",
    "\n",
    "plt.legend()\n",
    "plt.show()"
   ]
  },
  {
   "cell_type": "markdown",
   "metadata": {
    "cell_id": "be25e006-2107-4ce1-8b99-e551b43f41a2",
    "deepnote_cell_type": "text-cell-number",
    "formattedRanges": [],
    "is_collapsed": false,
    "style": "decimal",
    "tags": []
   },
   "source": [
    "Cool! Let's try plotting **Kinetic Energy vs. time** and **Potential Energy vs. time** on the same graph as well! The code is identical, just change the y-values respectively."
   ]
  },
  {
   "cell_type": "code",
   "execution_count": null,
   "metadata": {},
   "outputs": [],
   "source": [
    "plt.plot(_____, _____, label = # Place a string that describes your y-value)\n",
    "plt.xlabel(# Write a string that will appear as the label for your x-axis)\n",
    "\n",
    "# Do the same for the angular position vs. time graph.\n",
    "plt.plot(_____,_____, label = # Place a string that describes your y-value)\n",
    "plt.xlabel(# Write a string that will appear as the label for your x-axis)\n",
    "\n",
    "plt.legend()\n",
    "plt.show()"
   ]
  },
  {
   "cell_type": "markdown",
   "metadata": {
    "cell_id": "be25e006-2107-4ce1-8b99-e551b43f41a2",
    "deepnote_cell_type": "text-cell-number",
    "formattedRanges": [],
    "is_collapsed": false,
    "style": "decimal",
    "tags": []
   },
   "source": [
    "And you're done - Congratulations! You have simulated the physical system of a pendulum successfully with the help of python. \n",
    "\n",
    "If you are curious, go back and change some of the parameters we defined earlier - mass, length of the pendulum rod, the gravitational constant, etc. If you **only** change these values and **not** any of the code you wrote, you should be able to **Shift + Enter** on these code blocks in Task 5 again, to plot the new graphs. Try it!"
   ]
  },
  {
   "cell_type": "markdown",
   "metadata": {
    "cell_id": "6bf0aff6-15c9-4b63-8bc9-b5f3e52332e8",
    "deepnote_cell_type": "text-cell-number",
    "formattedRanges": [],
    "is_collapsed": false,
    "style": "decimal",
    "tags": []
   },
   "source": [
    "## Task 6: Push to GitHub"
   ]
  },
  {
   "cell_type": "markdown",
   "metadata": {
    "cell_id": "5d1de34d-9883-4dce-8573-437ebd7f108d",
    "deepnote_cell_type": "text-cell-p",
    "formattedRanges": [],
    "is_collapsed": false,
    "style": "decimal",
    "tags": []
   },
   "source": [
    "Your final task is to push this Jupyter Python notebook onto Github. Rename the file to **Workshop2_LastName_FirstName** with your name. Then, push it onto github from your local repository. Refer to the presentation slides, ask us questions, and figure out how to push it successfully onto our cloud repository!"
   ]
  },
  {
   "cell_type": "markdown",
   "metadata": {
    "cell_id": "f169f24f8fe14ec59247e2d8786a9130",
    "deepnote_cell_type": "text-cell-h3",
    "formattedRanges": [],
    "is_collapsed": false,
    "tags": []
   },
   "source": [
    "# Last Words"
   ]
  },
  {
   "cell_type": "markdown",
   "metadata": {
    "cell_id": "c9b50e11-f382-44d5-843f-8e26955cc391",
    "deepnote_cell_type": "text-cell-p",
    "formattedRanges": [],
    "is_collapsed": false,
    "tags": []
   },
   "source": [
    "Lastly, here is a resource to help you learn up on Python basics (plus a lot more!) if you want to do more practice with Python. It is the entire ITP 115 (Introduction to Python Programming) course at USC, offered for free on Youtube! Use it to brush up on concepts, or learn new ones. Here's the link to the playlist:"
   ]
  },
  {
   "cell_type": "markdown",
   "metadata": {
    "cell_id": "4ed06d1f-75ce-4890-8519-e6ac063aba04",
    "deepnote_cell_type": "text-cell-p",
    "formattedRanges": [
     {
      "fromCodePoint": 0,
      "ranges": [],
      "toCodePoint": 83,
      "type": "link",
      "url": "https://www.youtube.com/watch?v=rfBZxNUjp0E&list=PLn75jqY5uvaow3KRa3-VeCoZ2tZKuvDor"
     }
    ],
    "is_collapsed": false,
    "tags": []
   },
   "source": [
    "https://www.youtube.com/watch?v=rfBZxNUjp0E&list=PLn75jqY5uvaow3KRa3-VeCoZ2tZKuvDor"
   ]
  },
  {
   "cell_type": "markdown",
   "metadata": {
    "cell_id": "fb21a389-2da1-407a-9cd7-87566cd85a7e",
    "deepnote_cell_type": "text-cell-p",
    "formattedRanges": [],
    "is_collapsed": false,
    "tags": []
   },
   "source": [
    "Ask us if you have any questions about these concepts! Contact us (Dwaipayan, Liam, Logan) using the emails provided to you in the setup slides you received at the start of the workshop. They should also be accessible via github."
   ]
  }
 ],
 "metadata": {
  "deepnote": {},
  "deepnote_execution_queue": [],
  "deepnote_notebook_id": "009750dcdc984941a1b412f1bf5ac256",
  "deepnote_persisted_session": {
   "createdAt": "2023-03-05T21:01:23.904Z"
  },
  "kernelspec": {
   "display_name": "Python 3",
   "language": "python",
   "name": "python3"
  },
  "language_info": {
   "codemirror_mode": {
    "name": "ipython",
    "version": 3
   },
   "file_extension": ".py",
   "mimetype": "text/x-python",
   "name": "python",
   "nbconvert_exporter": "python",
   "pygments_lexer": "ipython3",
   "version": "3.8.8"
  }
 },
 "nbformat": 4,
 "nbformat_minor": 1
}
